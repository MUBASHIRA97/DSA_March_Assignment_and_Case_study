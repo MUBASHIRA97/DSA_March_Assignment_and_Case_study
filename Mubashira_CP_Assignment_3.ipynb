{
 "cells": [
  {
   "cell_type": "code",
   "execution_count": 1,
   "id": "bf6e1c62",
   "metadata": {},
   "outputs": [],
   "source": [
    "# Import pandas and matplotlib \n",
    "\n",
    "import pandas as pd\n",
    "import matplotlib.pyplot as plt"
   ]
  },
  {
   "cell_type": "code",
   "execution_count": 2,
   "id": "6312be74",
   "metadata": {},
   "outputs": [],
   "source": [
    "# Read dataset\n",
    "\n",
    "data = pd.read_csv(r'C:\\Users\\USER\\Downloads\\StudentsPerformance.csv')"
   ]
  },
  {
   "cell_type": "code",
   "execution_count": 3,
   "id": "ea0cea19",
   "metadata": {},
   "outputs": [
    {
     "data": {
      "text/plain": [
       "Index(['gender', 'race/ethnicity', 'parental level of education', 'lunch',\n",
       "       'test preparation course', 'math score', 'reading score',\n",
       "       'writing score'],\n",
       "      dtype='object')"
      ]
     },
     "execution_count": 3,
     "metadata": {},
     "output_type": "execute_result"
    }
   ],
   "source": [
    "# Columns present in dataset\n",
    "\n",
    "data.columns"
   ]
  },
  {
   "cell_type": "code",
   "execution_count": 4,
   "id": "7553d323",
   "metadata": {},
   "outputs": [
    {
     "data": {
      "text/html": [
       "<div>\n",
       "<style scoped>\n",
       "    .dataframe tbody tr th:only-of-type {\n",
       "        vertical-align: middle;\n",
       "    }\n",
       "\n",
       "    .dataframe tbody tr th {\n",
       "        vertical-align: top;\n",
       "    }\n",
       "\n",
       "    .dataframe thead th {\n",
       "        text-align: right;\n",
       "    }\n",
       "</style>\n",
       "<table border=\"1\" class=\"dataframe\">\n",
       "  <thead>\n",
       "    <tr style=\"text-align: right;\">\n",
       "      <th></th>\n",
       "      <th>gender</th>\n",
       "      <th>race/ethnicity</th>\n",
       "      <th>parental level of education</th>\n",
       "      <th>lunch</th>\n",
       "      <th>test preparation course</th>\n",
       "      <th>math score</th>\n",
       "      <th>reading score</th>\n",
       "      <th>writing score</th>\n",
       "    </tr>\n",
       "  </thead>\n",
       "  <tbody>\n",
       "    <tr>\n",
       "      <th>0</th>\n",
       "      <td>female</td>\n",
       "      <td>group C</td>\n",
       "      <td>some high school</td>\n",
       "      <td>free/reduced</td>\n",
       "      <td>none</td>\n",
       "      <td>0</td>\n",
       "      <td>17</td>\n",
       "      <td>10</td>\n",
       "    </tr>\n",
       "    <tr>\n",
       "      <th>1</th>\n",
       "      <td>female</td>\n",
       "      <td>group B</td>\n",
       "      <td>high school</td>\n",
       "      <td>free/reduced</td>\n",
       "      <td>none</td>\n",
       "      <td>8</td>\n",
       "      <td>24</td>\n",
       "      <td>23</td>\n",
       "    </tr>\n",
       "    <tr>\n",
       "      <th>2</th>\n",
       "      <td>female</td>\n",
       "      <td>group B</td>\n",
       "      <td>some high school</td>\n",
       "      <td>free/reduced</td>\n",
       "      <td>none</td>\n",
       "      <td>18</td>\n",
       "      <td>32</td>\n",
       "      <td>28</td>\n",
       "    </tr>\n",
       "    <tr>\n",
       "      <th>3</th>\n",
       "      <td>female</td>\n",
       "      <td>group B</td>\n",
       "      <td>some college</td>\n",
       "      <td>standard</td>\n",
       "      <td>none</td>\n",
       "      <td>11</td>\n",
       "      <td>38</td>\n",
       "      <td>32</td>\n",
       "    </tr>\n",
       "    <tr>\n",
       "      <th>4</th>\n",
       "      <td>female</td>\n",
       "      <td>group C</td>\n",
       "      <td>some college</td>\n",
       "      <td>free/reduced</td>\n",
       "      <td>none</td>\n",
       "      <td>22</td>\n",
       "      <td>39</td>\n",
       "      <td>33</td>\n",
       "    </tr>\n",
       "  </tbody>\n",
       "</table>\n",
       "</div>"
      ],
      "text/plain": [
       "   gender race/ethnicity parental level of education         lunch  \\\n",
       "0  female        group C            some high school  free/reduced   \n",
       "1  female        group B                 high school  free/reduced   \n",
       "2  female        group B            some high school  free/reduced   \n",
       "3  female        group B                some college      standard   \n",
       "4  female        group C                some college  free/reduced   \n",
       "\n",
       "  test preparation course  math score  reading score  writing score  \n",
       "0                    none           0             17             10  \n",
       "1                    none           8             24             23  \n",
       "2                    none          18             32             28  \n",
       "3                    none          11             38             32  \n",
       "4                    none          22             39             33  "
      ]
     },
     "execution_count": 4,
     "metadata": {},
     "output_type": "execute_result"
    }
   ],
   "source": [
    "# First 5 rows\n",
    "\n",
    "data.head()"
   ]
  },
  {
   "cell_type": "code",
   "execution_count": 5,
   "id": "629b4404",
   "metadata": {},
   "outputs": [
    {
     "name": "stdout",
     "output_type": "stream",
     "text": [
      "<class 'pandas.core.frame.DataFrame'>\n",
      "RangeIndex: 1000 entries, 0 to 999\n",
      "Data columns (total 8 columns):\n",
      " #   Column                       Non-Null Count  Dtype \n",
      "---  ------                       --------------  ----- \n",
      " 0   gender                       1000 non-null   object\n",
      " 1   race/ethnicity               1000 non-null   object\n",
      " 2   parental level of education  1000 non-null   object\n",
      " 3   lunch                        1000 non-null   object\n",
      " 4   test preparation course      1000 non-null   object\n",
      " 5   math score                   1000 non-null   int64 \n",
      " 6   reading score                1000 non-null   int64 \n",
      " 7   writing score                1000 non-null   int64 \n",
      "dtypes: int64(3), object(5)\n",
      "memory usage: 62.6+ KB\n"
     ]
    }
   ],
   "source": [
    "# Information about the dataset\n",
    "\n",
    "data.info()"
   ]
  },
  {
   "cell_type": "code",
   "execution_count": 6,
   "id": "89ed1936",
   "metadata": {},
   "outputs": [
    {
     "data": {
      "text/plain": [
       "(1000, 8)"
      ]
     },
     "execution_count": 6,
     "metadata": {},
     "output_type": "execute_result"
    }
   ],
   "source": [
    "# Shape of the dataset\n",
    "\n",
    "data.shape"
   ]
  },
  {
   "cell_type": "code",
   "execution_count": 7,
   "id": "6aa9db03",
   "metadata": {},
   "outputs": [
    {
     "data": {
      "text/plain": [
       "gender                         0\n",
       "race/ethnicity                 0\n",
       "parental level of education    0\n",
       "lunch                          0\n",
       "test preparation course        0\n",
       "math score                     0\n",
       "reading score                  0\n",
       "writing score                  0\n",
       "dtype: int64"
      ]
     },
     "execution_count": 7,
     "metadata": {},
     "output_type": "execute_result"
    }
   ],
   "source": [
    "# checking for null values\n",
    "\n",
    "data.isnull().sum()"
   ]
  },
  {
   "cell_type": "markdown",
   "id": "49d68504",
   "metadata": {},
   "source": [
    "This means no null values present in dataset"
   ]
  },
  {
   "cell_type": "code",
   "execution_count": 8,
   "id": "3f977081",
   "metadata": {},
   "outputs": [
    {
     "data": {
      "text/plain": [
       "0"
      ]
     },
     "execution_count": 8,
     "metadata": {},
     "output_type": "execute_result"
    }
   ],
   "source": [
    "# checking for duplicates\n",
    "\n",
    "data.duplicated().sum()"
   ]
  },
  {
   "cell_type": "markdown",
   "id": "4df2cb01",
   "metadata": {},
   "source": [
    "This means no duplicates present in dataset"
   ]
  },
  {
   "cell_type": "markdown",
   "id": "4b59f03e",
   "metadata": {},
   "source": [
    "# 1. Find out how many males and females participated in the test."
   ]
  },
  {
   "cell_type": "code",
   "execution_count": 9,
   "id": "a0f5194f",
   "metadata": {},
   "outputs": [
    {
     "data": {
      "text/plain": [
       "female    518\n",
       "male      482\n",
       "Name: gender, dtype: int64"
      ]
     },
     "execution_count": 9,
     "metadata": {},
     "output_type": "execute_result"
    }
   ],
   "source": [
    "data['gender'].value_counts()"
   ]
  },
  {
   "cell_type": "code",
   "execution_count": 10,
   "id": "49518143",
   "metadata": {},
   "outputs": [
    {
     "data": {
      "image/png": "[encoded data removed]",
      "text/plain": [
       "<Figure size 600x600 with 1 Axes>"
      ]
     },
     "metadata": {},
     "output_type": "display_data"
    }
   ],
   "source": [
    "# Pie plot representation of percentage of males and females present in dataset\n",
    "\n",
    "gender_count = data['gender'].value_counts()\n",
    "label = data['gender'].value_counts().index\n",
    "plt.figure(figsize=(6,6))\n",
    "plt.pie(gender_count,labels=label, autopct='%1.1f%%')\n",
    "plt.legend()\n",
    "plt.show()\n"
   ]
  },
  {
   "cell_type": "markdown",
   "id": "c9ed7339",
   "metadata": {},
   "source": [
    "# 2. What do you think about the students' parental level of education?"
   ]
  },
  {
   "cell_type": "code",
   "execution_count": 11,
   "id": "29b53d29",
   "metadata": {},
   "outputs": [
    {
     "data": {
      "text/plain": [
       "some college          226\n",
       "associate's degree    222\n",
       "high school           196\n",
       "some high school      179\n",
       "bachelor's degree     118\n",
       "master's degree        59\n",
       "Name: parental level of education, dtype: int64"
      ]
     },
     "execution_count": 11,
     "metadata": {},
     "output_type": "execute_result"
    }
   ],
   "source": [
    "data['parental level of education'].value_counts()"
   ]
  },
  {
   "cell_type": "code",
   "execution_count": 12,
   "id": "bc5c5aea",
   "metadata": {},
   "outputs": [
    {
     "data": {
      "text/html": [
       "<div>\n",
       "<style scoped>\n",
       "    .dataframe tbody tr th:only-of-type {\n",
       "        vertical-align: middle;\n",
       "    }\n",
       "\n",
       "    .dataframe tbody tr th {\n",
       "        vertical-align: top;\n",
       "    }\n",
       "\n",
       "    .dataframe thead th {\n",
       "        text-align: right;\n",
       "    }\n",
       "</style>\n",
       "<table border=\"1\" class=\"dataframe\">\n",
       "  <thead>\n",
       "    <tr style=\"text-align: right;\">\n",
       "      <th></th>\n",
       "      <th></th>\n",
       "      <th>reading score</th>\n",
       "      <th>math score</th>\n",
       "      <th>writing score</th>\n",
       "    </tr>\n",
       "    <tr>\n",
       "      <th>gender</th>\n",
       "      <th>parental level of education</th>\n",
       "      <th></th>\n",
       "      <th></th>\n",
       "      <th></th>\n",
       "    </tr>\n",
       "  </thead>\n",
       "  <tbody>\n",
       "    <tr>\n",
       "      <th rowspan=\"6\" valign=\"top\">female</th>\n",
       "      <th>associate's degree</th>\n",
       "      <td>74.120690</td>\n",
       "      <td>65.250000</td>\n",
       "      <td>74.000000</td>\n",
       "    </tr>\n",
       "    <tr>\n",
       "      <th>bachelor's degree</th>\n",
       "      <td>77.285714</td>\n",
       "      <td>68.158730</td>\n",
       "      <td>78.380952</td>\n",
       "    </tr>\n",
       "    <tr>\n",
       "      <th>high school</th>\n",
       "      <td>68.202128</td>\n",
       "      <td>58.840426</td>\n",
       "      <td>66.691489</td>\n",
       "    </tr>\n",
       "    <tr>\n",
       "      <th>master's degree</th>\n",
       "      <td>76.805556</td>\n",
       "      <td>66.500000</td>\n",
       "      <td>77.638889</td>\n",
       "    </tr>\n",
       "    <tr>\n",
       "      <th>some college</th>\n",
       "      <td>73.550847</td>\n",
       "      <td>65.186441</td>\n",
       "      <td>74.050847</td>\n",
       "    </tr>\n",
       "    <tr>\n",
       "      <th>some high school</th>\n",
       "      <td>69.010989</td>\n",
       "      <td>58.780220</td>\n",
       "      <td>68.285714</td>\n",
       "    </tr>\n",
       "    <tr>\n",
       "      <th rowspan=\"6\" valign=\"top\">male</th>\n",
       "      <th>associate's degree</th>\n",
       "      <td>67.622642</td>\n",
       "      <td>70.962264</td>\n",
       "      <td>65.688679</td>\n",
       "    </tr>\n",
       "    <tr>\n",
       "      <th>bachelor's degree</th>\n",
       "      <td>68.090909</td>\n",
       "      <td>70.581818</td>\n",
       "      <td>67.654545</td>\n",
       "    </tr>\n",
       "    <tr>\n",
       "      <th>high school</th>\n",
       "      <td>61.284314</td>\n",
       "      <td>64.568627</td>\n",
       "      <td>58.450980</td>\n",
       "    </tr>\n",
       "    <tr>\n",
       "      <th>master's degree</th>\n",
       "      <td>74.608696</td>\n",
       "      <td>76.130435</td>\n",
       "      <td>72.608696</td>\n",
       "    </tr>\n",
       "    <tr>\n",
       "      <th>some college</th>\n",
       "      <td>65.212963</td>\n",
       "      <td>69.250000</td>\n",
       "      <td>63.555556</td>\n",
       "    </tr>\n",
       "    <tr>\n",
       "      <th>some high school</th>\n",
       "      <td>64.431818</td>\n",
       "      <td>67.636364</td>\n",
       "      <td>61.375000</td>\n",
       "    </tr>\n",
       "  </tbody>\n",
       "</table>\n",
       "</div>"
      ],
      "text/plain": [
       "                                    reading score  math score  writing score\n",
       "gender parental level of education                                          \n",
       "female associate's degree               74.120690   65.250000      74.000000\n",
       "       bachelor's degree                77.285714   68.158730      78.380952\n",
       "       high school                      68.202128   58.840426      66.691489\n",
       "       master's degree                  76.805556   66.500000      77.638889\n",
       "       some college                     73.550847   65.186441      74.050847\n",
       "       some high school                 69.010989   58.780220      68.285714\n",
       "male   associate's degree               67.622642   70.962264      65.688679\n",
       "       bachelor's degree                68.090909   70.581818      67.654545\n",
       "       high school                      61.284314   64.568627      58.450980\n",
       "       master's degree                  74.608696   76.130435      72.608696\n",
       "       some college                     65.212963   69.250000      63.555556\n",
       "       some high school                 64.431818   67.636364      61.375000"
      ]
     },
     "execution_count": 12,
     "metadata": {},
     "output_type": "execute_result"
    }
   ],
   "source": [
    "# Relation between gender and parental level of education with average of reading score, math score and writing score\n",
    "\n",
    "data.groupby(['gender','parental level of education'])[['reading score','math score','writing score']].mean()"
   ]
  },
  {
   "cell_type": "markdown",
   "id": "4c6fe58a",
   "metadata": {},
   "source": [
    "Among students with the same parental level of education, female students have higher average reading and writing scores than their male students. Where male students have higher average math scores"
   ]
  },
  {
   "cell_type": "code",
   "execution_count": 13,
   "id": "a6ba4b7d",
   "metadata": {},
   "outputs": [
    {
     "data": {
      "text/html": [
       "<div>\n",
       "<style scoped>\n",
       "    .dataframe tbody tr th:only-of-type {\n",
       "        vertical-align: middle;\n",
       "    }\n",
       "\n",
       "    .dataframe tbody tr th {\n",
       "        vertical-align: top;\n",
       "    }\n",
       "\n",
       "    .dataframe thead th {\n",
       "        text-align: right;\n",
       "    }\n",
       "</style>\n",
       "<table border=\"1\" class=\"dataframe\">\n",
       "  <thead>\n",
       "    <tr style=\"text-align: right;\">\n",
       "      <th></th>\n",
       "      <th></th>\n",
       "      <th>reading score</th>\n",
       "      <th>math score</th>\n",
       "      <th>writing score</th>\n",
       "    </tr>\n",
       "    <tr>\n",
       "      <th>parental level of education</th>\n",
       "      <th>test preparation course</th>\n",
       "      <th></th>\n",
       "      <th></th>\n",
       "      <th></th>\n",
       "    </tr>\n",
       "  </thead>\n",
       "  <tbody>\n",
       "    <tr>\n",
       "      <th rowspan=\"2\" valign=\"top\">associate's degree</th>\n",
       "      <th>completed</th>\n",
       "      <td>76.414634</td>\n",
       "      <td>72.085366</td>\n",
       "      <td>77.182927</td>\n",
       "    </tr>\n",
       "    <tr>\n",
       "      <th>none</th>\n",
       "      <td>67.857143</td>\n",
       "      <td>65.571429</td>\n",
       "      <td>65.842857</td>\n",
       "    </tr>\n",
       "    <tr>\n",
       "      <th rowspan=\"2\" valign=\"top\">bachelor's degree</th>\n",
       "      <th>completed</th>\n",
       "      <td>76.739130</td>\n",
       "      <td>73.282609</td>\n",
       "      <td>78.695652</td>\n",
       "    </tr>\n",
       "    <tr>\n",
       "      <th>none</th>\n",
       "      <td>70.611111</td>\n",
       "      <td>66.736111</td>\n",
       "      <td>69.986111</td>\n",
       "    </tr>\n",
       "    <tr>\n",
       "      <th rowspan=\"2\" valign=\"top\">high school</th>\n",
       "      <th>completed</th>\n",
       "      <td>68.196429</td>\n",
       "      <td>65.464286</td>\n",
       "      <td>68.428571</td>\n",
       "    </tr>\n",
       "    <tr>\n",
       "      <th>none</th>\n",
       "      <td>63.164286</td>\n",
       "      <td>60.364286</td>\n",
       "      <td>59.992857</td>\n",
       "    </tr>\n",
       "    <tr>\n",
       "      <th rowspan=\"2\" valign=\"top\">master's degree</th>\n",
       "      <th>completed</th>\n",
       "      <td>79.950000</td>\n",
       "      <td>72.100000</td>\n",
       "      <td>80.100000</td>\n",
       "    </tr>\n",
       "    <tr>\n",
       "      <th>none</th>\n",
       "      <td>73.897436</td>\n",
       "      <td>69.307692</td>\n",
       "      <td>73.410256</td>\n",
       "    </tr>\n",
       "    <tr>\n",
       "      <th rowspan=\"2\" valign=\"top\">some college</th>\n",
       "      <th>completed</th>\n",
       "      <td>76.506494</td>\n",
       "      <td>71.922078</td>\n",
       "      <td>77.090909</td>\n",
       "    </tr>\n",
       "    <tr>\n",
       "      <th>none</th>\n",
       "      <td>65.979866</td>\n",
       "      <td>64.651007</td>\n",
       "      <td>64.872483</td>\n",
       "    </tr>\n",
       "    <tr>\n",
       "      <th rowspan=\"2\" valign=\"top\">some high school</th>\n",
       "      <th>completed</th>\n",
       "      <td>70.779221</td>\n",
       "      <td>66.493506</td>\n",
       "      <td>70.363636</td>\n",
       "    </tr>\n",
       "    <tr>\n",
       "      <th>none</th>\n",
       "      <td>63.725490</td>\n",
       "      <td>60.598039</td>\n",
       "      <td>60.754902</td>\n",
       "    </tr>\n",
       "  </tbody>\n",
       "</table>\n",
       "</div>"
      ],
      "text/plain": [
       "                                                     reading score  \\\n",
       "parental level of education test preparation course                  \n",
       "associate's degree          completed                    76.414634   \n",
       "                            none                         67.857143   \n",
       "bachelor's degree           completed                    76.739130   \n",
       "                            none                         70.611111   \n",
       "high school                 completed                    68.196429   \n",
       "                            none                         63.164286   \n",
       "master's degree             completed                    79.950000   \n",
       "                            none                         73.897436   \n",
       "some college                completed                    76.506494   \n",
       "                            none                         65.979866   \n",
       "some high school            completed                    70.779221   \n",
       "                            none                         63.725490   \n",
       "\n",
       "                                                     math score  writing score  \n",
       "parental level of education test preparation course                             \n",
       "associate's degree          completed                 72.085366      77.182927  \n",
       "                            none                      65.571429      65.842857  \n",
       "bachelor's degree           completed                 73.282609      78.695652  \n",
       "                            none                      66.736111      69.986111  \n",
       "high school                 completed                 65.464286      68.428571  \n",
       "                            none                      60.364286      59.992857  \n",
       "master's degree             completed                 72.100000      80.100000  \n",
       "                            none                      69.307692      73.410256  \n",
       "some college                completed                 71.922078      77.090909  \n",
       "                            none                      64.651007      64.872483  \n",
       "some high school            completed                 66.493506      70.363636  \n",
       "                            none                      60.598039      60.754902  "
      ]
     },
     "execution_count": 13,
     "metadata": {},
     "output_type": "execute_result"
    }
   ],
   "source": [
    "# Relation between parental level of education and test preparation course with average of reading score, math and writing score\n",
    "\n",
    "data.groupby(['parental level of education','test preparation course'])[['reading score', 'math score', 'writing score']].mean()"
   ]
  },
  {
   "cell_type": "markdown",
   "id": "0c9f9113",
   "metadata": {},
   "source": [
    "1. Students who have completed the test preparation course and with a bachelor’s degree as the parental level of education have    higher average math scores\n",
    "2. Students who have completed the test preparation course and with a master’s degree as the parental level of education have      higher average reading scores\n",
    "3. Students who have completed the test preparation course and with a master’s degree as the parental level of education have      higher average writing scores"
   ]
  },
  {
   "cell_type": "code",
   "execution_count": 14,
   "id": "8e7d7451",
   "metadata": {},
   "outputs": [],
   "source": [
    "# Average score\n",
    "\n",
    "data['average score'] = (data['math score'] + data['writing score'] + data['reading score']) / 3"
   ]
  },
  {
   "cell_type": "code",
   "execution_count": 15,
   "id": "9e08a383",
   "metadata": {},
   "outputs": [
    {
     "data": {
      "text/plain": [
       "gender  parental level of education\n",
       "female  associate's degree             71.123563\n",
       "        bachelor's degree              74.608466\n",
       "        high school                    64.578014\n",
       "        master's degree                73.648148\n",
       "        some college                   70.929379\n",
       "        some high school               65.358974\n",
       "male    associate's degree             68.091195\n",
       "        bachelor's degree              68.775758\n",
       "        high school                    61.434641\n",
       "        master's degree                74.449275\n",
       "        some college                   66.006173\n",
       "        some high school               64.481061\n",
       "Name: average score, dtype: float64"
      ]
     },
     "execution_count": 15,
     "metadata": {},
     "output_type": "execute_result"
    }
   ],
   "source": [
    "# Relation between gender and parental level of education with average score\n",
    "\n",
    "data.groupby(['gender','parental level of education'])['average score'].mean()"
   ]
  },
  {
   "cell_type": "markdown",
   "id": "22f193ee",
   "metadata": {},
   "source": [
    "Females with parental level of education bachelor's degree have higher average score. Males with parental level of education high school have lower average score\n"
   ]
  },
  {
   "cell_type": "code",
   "execution_count": 16,
   "id": "2e9526c1",
   "metadata": {},
   "outputs": [
    {
     "data": {
      "text/plain": [
       "parental level of education  test preparation course\n",
       "associate's degree           completed                  75.227642\n",
       "                             none                       66.423810\n",
       "bachelor's degree            completed                  76.239130\n",
       "                             none                       69.111111\n",
       "high school                  completed                  67.363095\n",
       "                             none                       61.173810\n",
       "master's degree              completed                  77.383333\n",
       "                             none                       72.205128\n",
       "some college                 completed                  75.173160\n",
       "                             none                       65.167785\n",
       "some high school             completed                  69.212121\n",
       "                             none                       61.692810\n",
       "Name: average score, dtype: float64"
      ]
     },
     "execution_count": 16,
     "metadata": {},
     "output_type": "execute_result"
    }
   ],
   "source": [
    "# Relation between parental level of education and test preparation course with average score\n",
    "\n",
    "data.groupby(['parental level of education','test preparation course'])['average score'].mean()"
   ]
  },
  {
   "cell_type": "markdown",
   "id": "4dfbde56",
   "metadata": {},
   "source": [
    "Students with Master's degree as parental level of education and completed the test preperation course have higher average score "
   ]
  },
  {
   "cell_type": "markdown",
   "id": "c8b9251c",
   "metadata": {},
   "source": [
    "# 3. Who scores the most on average for math, reading and writing based on   gender and test preparation course?"
   ]
  },
  {
   "cell_type": "code",
   "execution_count": 17,
   "id": "f189def5",
   "metadata": {},
   "outputs": [
    {
     "data": {
      "text/html": [
       "<div>\n",
       "<style scoped>\n",
       "    .dataframe tbody tr th:only-of-type {\n",
       "        vertical-align: middle;\n",
       "    }\n",
       "\n",
       "    .dataframe tbody tr th {\n",
       "        vertical-align: top;\n",
       "    }\n",
       "\n",
       "    .dataframe thead th {\n",
       "        text-align: right;\n",
       "    }\n",
       "</style>\n",
       "<table border=\"1\" class=\"dataframe\">\n",
       "  <thead>\n",
       "    <tr style=\"text-align: right;\">\n",
       "      <th></th>\n",
       "      <th>reading score</th>\n",
       "      <th>math score</th>\n",
       "      <th>writing score</th>\n",
       "    </tr>\n",
       "    <tr>\n",
       "      <th>gender</th>\n",
       "      <th></th>\n",
       "      <th></th>\n",
       "      <th></th>\n",
       "    </tr>\n",
       "  </thead>\n",
       "  <tbody>\n",
       "    <tr>\n",
       "      <th>female</th>\n",
       "      <td>72.590734</td>\n",
       "      <td>63.376448</td>\n",
       "      <td>72.467181</td>\n",
       "    </tr>\n",
       "    <tr>\n",
       "      <th>male</th>\n",
       "      <td>65.545643</td>\n",
       "      <td>68.821577</td>\n",
       "      <td>63.446058</td>\n",
       "    </tr>\n",
       "  </tbody>\n",
       "</table>\n",
       "</div>"
      ],
      "text/plain": [
       "        reading score  math score  writing score\n",
       "gender                                          \n",
       "female      72.590734   63.376448      72.467181\n",
       "male        65.545643   68.821577      63.446058"
      ]
     },
     "execution_count": 17,
     "metadata": {},
     "output_type": "execute_result"
    }
   ],
   "source": [
    "# Based on gender average\n",
    "\n",
    "data.groupby(['gender'])[['reading score','math score','writing score']].mean()"
   ]
  },
  {
   "cell_type": "markdown",
   "id": "86005e0f",
   "metadata": {},
   "source": [
    "1. Females have higher average reading score and writing score than males\n",
    "2. Males have higher average math score than females"
   ]
  },
  {
   "cell_type": "code",
   "execution_count": 18,
   "id": "1f34319a",
   "metadata": {},
   "outputs": [
    {
     "data": {
      "text/html": [
       "<div>\n",
       "<style scoped>\n",
       "    .dataframe tbody tr th:only-of-type {\n",
       "        vertical-align: middle;\n",
       "    }\n",
       "\n",
       "    .dataframe tbody tr th {\n",
       "        vertical-align: top;\n",
       "    }\n",
       "\n",
       "    .dataframe thead th {\n",
       "        text-align: right;\n",
       "    }\n",
       "</style>\n",
       "<table border=\"1\" class=\"dataframe\">\n",
       "  <thead>\n",
       "    <tr style=\"text-align: right;\">\n",
       "      <th></th>\n",
       "      <th>reading score</th>\n",
       "      <th>math score</th>\n",
       "      <th>writing score</th>\n",
       "    </tr>\n",
       "    <tr>\n",
       "      <th>test preparation course</th>\n",
       "      <th></th>\n",
       "      <th></th>\n",
       "      <th></th>\n",
       "    </tr>\n",
       "  </thead>\n",
       "  <tbody>\n",
       "    <tr>\n",
       "      <th>completed</th>\n",
       "      <td>74.175978</td>\n",
       "      <td>69.96648</td>\n",
       "      <td>74.684358</td>\n",
       "    </tr>\n",
       "    <tr>\n",
       "      <th>none</th>\n",
       "      <td>66.417445</td>\n",
       "      <td>63.78972</td>\n",
       "      <td>64.457944</td>\n",
       "    </tr>\n",
       "  </tbody>\n",
       "</table>\n",
       "</div>"
      ],
      "text/plain": [
       "                         reading score  math score  writing score\n",
       "test preparation course                                          \n",
       "completed                    74.175978    69.96648      74.684358\n",
       "none                         66.417445    63.78972      64.457944"
      ]
     },
     "execution_count": 18,
     "metadata": {},
     "output_type": "execute_result"
    }
   ],
   "source": [
    "# Based on test preparation course average\n",
    "\n",
    "data.groupby(['test preparation course'])[['reading score','math score','writing score']].mean()"
   ]
  },
  {
   "cell_type": "markdown",
   "id": "b06014e3",
   "metadata": {},
   "source": [
    "Those who completed the test preparation course have higher average reading score,math score and writing score"
   ]
  },
  {
   "cell_type": "code",
   "execution_count": 19,
   "id": "f7895132",
   "metadata": {},
   "outputs": [
    {
     "data": {
      "text/html": [
       "<div>\n",
       "<style scoped>\n",
       "    .dataframe tbody tr th:only-of-type {\n",
       "        vertical-align: middle;\n",
       "    }\n",
       "\n",
       "    .dataframe tbody tr th {\n",
       "        vertical-align: top;\n",
       "    }\n",
       "\n",
       "    .dataframe thead th {\n",
       "        text-align: right;\n",
       "    }\n",
       "</style>\n",
       "<table border=\"1\" class=\"dataframe\">\n",
       "  <thead>\n",
       "    <tr style=\"text-align: right;\">\n",
       "      <th></th>\n",
       "      <th></th>\n",
       "      <th>reading score</th>\n",
       "      <th>math score</th>\n",
       "      <th>writing score</th>\n",
       "    </tr>\n",
       "    <tr>\n",
       "      <th>gender</th>\n",
       "      <th>test preparation course</th>\n",
       "      <th></th>\n",
       "      <th></th>\n",
       "      <th></th>\n",
       "    </tr>\n",
       "  </thead>\n",
       "  <tbody>\n",
       "    <tr>\n",
       "      <th rowspan=\"2\" valign=\"top\">female</th>\n",
       "      <th>completed</th>\n",
       "      <td>77.375000</td>\n",
       "      <td>67.108696</td>\n",
       "      <td>78.793478</td>\n",
       "    </tr>\n",
       "    <tr>\n",
       "      <th>none</th>\n",
       "      <td>69.955090</td>\n",
       "      <td>61.320359</td>\n",
       "      <td>68.982036</td>\n",
       "    </tr>\n",
       "    <tr>\n",
       "      <th rowspan=\"2\" valign=\"top\">male</th>\n",
       "      <th>completed</th>\n",
       "      <td>70.793103</td>\n",
       "      <td>72.988506</td>\n",
       "      <td>70.339080</td>\n",
       "    </tr>\n",
       "    <tr>\n",
       "      <th>none</th>\n",
       "      <td>62.581169</td>\n",
       "      <td>66.467532</td>\n",
       "      <td>59.551948</td>\n",
       "    </tr>\n",
       "  </tbody>\n",
       "</table>\n",
       "</div>"
      ],
      "text/plain": [
       "                                reading score  math score  writing score\n",
       "gender test preparation course                                          \n",
       "female completed                    77.375000   67.108696      78.793478\n",
       "       none                         69.955090   61.320359      68.982036\n",
       "male   completed                    70.793103   72.988506      70.339080\n",
       "       none                         62.581169   66.467532      59.551948"
      ]
     },
     "execution_count": 19,
     "metadata": {},
     "output_type": "execute_result"
    }
   ],
   "source": [
    "# Based on both gender and test preparation course average\n",
    "\n",
    "data.groupby(['gender','test preparation course'])[['reading score','math score','writing score']].mean()"
   ]
  },
  {
   "cell_type": "markdown",
   "id": "b3d10d75",
   "metadata": {},
   "source": [
    "1. Females who completed test preparation course have higher average reading score,math score and writing score than those who    are not completed it.\n",
    "2. Males who completed test preparation course have higher average reading score,math score and writing score than those who      are not completed it.\n",
    "3. Females who completed test preparation course have higher average reading score and writing score than males who completed.\n",
    "4. Males who completed test preparation course have higher average math score than females who completed."
   ]
  },
  {
   "cell_type": "markdown",
   "id": "71cdd604",
   "metadata": {},
   "source": [
    "# 4. What do you think about the scoring variation for math, reading and writing based on gender and test preparation course?"
   ]
  },
  {
   "cell_type": "code",
   "execution_count": 20,
   "id": "2ce2a8dd",
   "metadata": {},
   "outputs": [
    {
     "data": {
      "text/html": [
       "<div>\n",
       "<style scoped>\n",
       "    .dataframe tbody tr th:only-of-type {\n",
       "        vertical-align: middle;\n",
       "    }\n",
       "\n",
       "    .dataframe tbody tr th {\n",
       "        vertical-align: top;\n",
       "    }\n",
       "\n",
       "    .dataframe thead th {\n",
       "        text-align: right;\n",
       "    }\n",
       "</style>\n",
       "<table border=\"1\" class=\"dataframe\">\n",
       "  <thead>\n",
       "    <tr style=\"text-align: right;\">\n",
       "      <th></th>\n",
       "      <th>reading score</th>\n",
       "      <th>math score</th>\n",
       "      <th>writing score</th>\n",
       "    </tr>\n",
       "    <tr>\n",
       "      <th>gender</th>\n",
       "      <th></th>\n",
       "      <th></th>\n",
       "      <th></th>\n",
       "    </tr>\n",
       "  </thead>\n",
       "  <tbody>\n",
       "    <tr>\n",
       "      <th>female</th>\n",
       "      <td>207.677438</td>\n",
       "      <td>256.958593</td>\n",
       "      <td>220.369327</td>\n",
       "    </tr>\n",
       "    <tr>\n",
       "      <th>male</th>\n",
       "      <td>200.211010</td>\n",
       "      <td>211.889097</td>\n",
       "      <td>202.413924</td>\n",
       "    </tr>\n",
       "  </tbody>\n",
       "</table>\n",
       "</div>"
      ],
      "text/plain": [
       "        reading score  math score  writing score\n",
       "gender                                          \n",
       "female     207.677438  256.958593     220.369327\n",
       "male       200.211010  211.889097     202.413924"
      ]
     },
     "execution_count": 20,
     "metadata": {},
     "output_type": "execute_result"
    }
   ],
   "source": [
    "# Based on gender variance\n",
    "\n",
    "data.groupby(['gender'])[['reading score','math score','writing score']].var()"
   ]
  },
  {
   "cell_type": "markdown",
   "id": "cab3189e",
   "metadata": {},
   "source": [
    "Females have higher variance for reading score,math score and writing score than males"
   ]
  },
  {
   "cell_type": "code",
   "execution_count": 21,
   "id": "25a12c7a",
   "metadata": {},
   "outputs": [
    {
     "data": {
      "text/html": [
       "<div>\n",
       "<style scoped>\n",
       "    .dataframe tbody tr th:only-of-type {\n",
       "        vertical-align: middle;\n",
       "    }\n",
       "\n",
       "    .dataframe tbody tr th {\n",
       "        vertical-align: top;\n",
       "    }\n",
       "\n",
       "    .dataframe thead th {\n",
       "        text-align: right;\n",
       "    }\n",
       "</style>\n",
       "<table border=\"1\" class=\"dataframe\">\n",
       "  <thead>\n",
       "    <tr style=\"text-align: right;\">\n",
       "      <th></th>\n",
       "      <th>reading score</th>\n",
       "      <th>math score</th>\n",
       "      <th>writing score</th>\n",
       "    </tr>\n",
       "    <tr>\n",
       "      <th>test preparation course</th>\n",
       "      <th></th>\n",
       "      <th></th>\n",
       "      <th></th>\n",
       "    </tr>\n",
       "  </thead>\n",
       "  <tbody>\n",
       "    <tr>\n",
       "      <th>completed</th>\n",
       "      <td>183.265864</td>\n",
       "      <td>210.884027</td>\n",
       "      <td>175.202612</td>\n",
       "    </tr>\n",
       "    <tr>\n",
       "      <th>none</th>\n",
       "      <td>213.419851</td>\n",
       "      <td>246.668662</td>\n",
       "      <td>226.251739</td>\n",
       "    </tr>\n",
       "  </tbody>\n",
       "</table>\n",
       "</div>"
      ],
      "text/plain": [
       "                         reading score  math score  writing score\n",
       "test preparation course                                          \n",
       "completed                   183.265864  210.884027     175.202612\n",
       "none                        213.419851  246.668662     226.251739"
      ]
     },
     "execution_count": 21,
     "metadata": {},
     "output_type": "execute_result"
    }
   ],
   "source": [
    "# Based on test preparation course variance\n",
    "\n",
    "data.groupby(['test preparation course'])[['reading score','math score','writing score']].var()"
   ]
  },
  {
   "cell_type": "markdown",
   "id": "34cc3b1b",
   "metadata": {},
   "source": [
    "Those who are not completed the test preparation course have variance for reading score,math score and writing score."
   ]
  },
  {
   "cell_type": "code",
   "execution_count": 22,
   "id": "4ace88b6",
   "metadata": {},
   "outputs": [
    {
     "data": {
      "text/html": [
       "<div>\n",
       "<style scoped>\n",
       "    .dataframe tbody tr th:only-of-type {\n",
       "        vertical-align: middle;\n",
       "    }\n",
       "\n",
       "    .dataframe tbody tr th {\n",
       "        vertical-align: top;\n",
       "    }\n",
       "\n",
       "    .dataframe thead th {\n",
       "        text-align: right;\n",
       "    }\n",
       "</style>\n",
       "<table border=\"1\" class=\"dataframe\">\n",
       "  <thead>\n",
       "    <tr style=\"text-align: right;\">\n",
       "      <th></th>\n",
       "      <th></th>\n",
       "      <th>reading score</th>\n",
       "      <th>math score</th>\n",
       "      <th>writing score</th>\n",
       "    </tr>\n",
       "    <tr>\n",
       "      <th>gender</th>\n",
       "      <th>test preparation course</th>\n",
       "      <th></th>\n",
       "      <th></th>\n",
       "      <th></th>\n",
       "    </tr>\n",
       "  </thead>\n",
       "  <tbody>\n",
       "    <tr>\n",
       "      <th rowspan=\"2\" valign=\"top\">female</th>\n",
       "      <th>completed</th>\n",
       "      <td>161.175546</td>\n",
       "      <td>208.173913</td>\n",
       "      <td>149.836897</td>\n",
       "    </tr>\n",
       "    <tr>\n",
       "      <th>none</th>\n",
       "      <td>214.241220</td>\n",
       "      <td>272.602767</td>\n",
       "      <td>225.495172</td>\n",
       "    </tr>\n",
       "    <tr>\n",
       "      <th rowspan=\"2\" valign=\"top\">male</th>\n",
       "      <th>completed</th>\n",
       "      <td>185.297987</td>\n",
       "      <td>197.098133</td>\n",
       "      <td>166.098233</td>\n",
       "    </tr>\n",
       "    <tr>\n",
       "      <th>none</th>\n",
       "      <td>184.843553</td>\n",
       "      <td>205.513600</td>\n",
       "      <td>181.394687</td>\n",
       "    </tr>\n",
       "  </tbody>\n",
       "</table>\n",
       "</div>"
      ],
      "text/plain": [
       "                                reading score  math score  writing score\n",
       "gender test preparation course                                          \n",
       "female completed                   161.175546  208.173913     149.836897\n",
       "       none                        214.241220  272.602767     225.495172\n",
       "male   completed                   185.297987  197.098133     166.098233\n",
       "       none                        184.843553  205.513600     181.394687"
      ]
     },
     "execution_count": 22,
     "metadata": {},
     "output_type": "execute_result"
    }
   ],
   "source": [
    "# Based on both gender and test preparation course variance\n",
    "\n",
    "data.groupby(['gender','test preparation course'])[['reading score','math score','writing score']].var()"
   ]
  },
  {
   "cell_type": "markdown",
   "id": "4e8757b2",
   "metadata": {},
   "source": [
    "1.Females not completed test preparation course have higher variance for reading score,math score and writing score than         females who completed it.\n",
    "2.Males not completed test preparation course have higher variance for math score and writing score than males who completed     it.\n",
    "3.Females not completed test preparation course have higher variance for reading score, math score and writing score than males   not completed.\n",
    "4.Males completed test preparation course have higher variance for reading score than males not completed it."
   ]
  },
  {
   "cell_type": "markdown",
   "id": "cf74e5da",
   "metadata": {},
   "source": [
    "# 5. The management needs your help to give bonus points to the top 25% of students based on their math score, so how will you help the management to achieve this."
   ]
  },
  {
   "cell_type": "code",
   "execution_count": 23,
   "id": "139ae2fd",
   "metadata": {},
   "outputs": [
    {
     "data": {
      "text/plain": [
       "77.0"
      ]
     },
     "execution_count": 23,
     "metadata": {},
     "output_type": "execute_result"
    }
   ],
   "source": [
    "data['math score'].quantile(0.75)"
   ]
  },
  {
   "cell_type": "code",
   "execution_count": 24,
   "id": "6cd714d2",
   "metadata": {},
   "outputs": [
    {
     "name": "stdout",
     "output_type": "stream",
     "text": [
      "     gender race/ethnicity parental level of education         lunch  \\\n",
      "999    male        group E           bachelor's degree      standard   \n",
      "998    male        group E          associate's degree  free/reduced   \n",
      "997    male        group D                some college      standard   \n",
      "996    male        group A                some college      standard   \n",
      "517  female        group E          associate's degree      standard   \n",
      "..      ...            ...                         ...           ...   \n",
      "854    male        group D            some high school      standard   \n",
      "855    male        group E          associate's degree  free/reduced   \n",
      "856    male        group E            some high school      standard   \n",
      "415  female        group B             master's degree  free/reduced   \n",
      "414  female        group A                 high school  free/reduced   \n",
      "\n",
      "    test preparation course  math score  reading score  writing score  \\\n",
      "999               completed         100            100            100   \n",
      "998               completed         100            100             93   \n",
      "997               completed         100             97             99   \n",
      "996               completed         100             96             86   \n",
      "517                    none         100            100            100   \n",
      "..                      ...         ...            ...            ...   \n",
      "854               completed          77             68             69   \n",
      "855               completed          77             69             68   \n",
      "856               completed          77             76             77   \n",
      "415               completed          77             97             94   \n",
      "414               completed          77             88             85   \n",
      "\n",
      "     average score  \n",
      "999     100.000000  \n",
      "998      97.666667  \n",
      "997      98.666667  \n",
      "996      94.000000  \n",
      "517     100.000000  \n",
      "..             ...  \n",
      "854      71.333333  \n",
      "855      71.333333  \n",
      "856      76.666667  \n",
      "415      89.333333  \n",
      "414      83.333333  \n",
      "\n",
      "[255 rows x 9 columns]\n"
     ]
    }
   ],
   "source": [
    "top_25_percent = data[data['math score']>=77].sort_values('math score',ascending=False)\n",
    "print(top_25_percent)"
   ]
  }
 ],
 "metadata": {
  "kernelspec": {
   "display_name": "Python 3 (ipykernel)",
   "language": "python",
   "name": "python3"
  },
  "language_info": {
   "codemirror_mode": {
    "name": "ipython",
    "version": 3
   },
   "file_extension": ".py",
   "mimetype": "text/x-python",
   "name": "python",
   "nbconvert_exporter": "python",
   "pygments_lexer": "ipython3",
   "version": "3.10.9"
  }
 },
 "nbformat": 4,
 "nbformat_minor": 5
}
