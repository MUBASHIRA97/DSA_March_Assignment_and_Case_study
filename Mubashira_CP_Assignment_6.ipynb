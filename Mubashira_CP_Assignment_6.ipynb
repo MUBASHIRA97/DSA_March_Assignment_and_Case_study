{
 "cells": [
  {
   "cell_type": "code",
   "execution_count": 1,
   "id": "2763e584",
   "metadata": {},
   "outputs": [],
   "source": [
    "# Import libraries\n",
    "\n",
    "import numpy as np\n",
    "import pandas as pd\n",
    "import matplotlib.pyplot as plt"
   ]
  },
  {
   "cell_type": "markdown",
   "id": "13369018",
   "metadata": {},
   "source": [
    "# 1. Load the dataset into python environment"
   ]
  },
  {
   "cell_type": "code",
   "execution_count": 2,
   "id": "46bbf42e",
   "metadata": {},
   "outputs": [],
   "source": [
    "# Read the dataset\n",
    "\n",
    "df = pd.read_csv(r'C:\\Users\\USER\\Downloads\\titanic_dataset.csv')"
   ]
  },
  {
   "cell_type": "code",
   "execution_count": 3,
   "id": "e15fedcf",
   "metadata": {},
   "outputs": [
    {
     "data": {
      "text/plain": [
       "Index(['PassengerId', 'Survived', 'Pclass', 'Name', 'Sex', 'Age', 'SibSp',\n",
       "       'Parch', 'Ticket', 'Fare', 'Cabin', 'Embarked'],\n",
       "      dtype='object')"
      ]
     },
     "execution_count": 3,
     "metadata": {},
     "output_type": "execute_result"
    }
   ],
   "source": [
    "# Columns in dataset\n",
    "\n",
    "df.columns"
   ]
  },
  {
   "cell_type": "code",
   "execution_count": 4,
   "id": "7735ac10",
   "metadata": {},
   "outputs": [
    {
     "data": {
      "text/html": [
       "<div>\n",
       "<style scoped>\n",
       "    .dataframe tbody tr th:only-of-type {\n",
       "        vertical-align: middle;\n",
       "    }\n",
       "\n",
       "    .dataframe tbody tr th {\n",
       "        vertical-align: top;\n",
       "    }\n",
       "\n",
       "    .dataframe thead th {\n",
       "        text-align: right;\n",
       "    }\n",
       "</style>\n",
       "<table border=\"1\" class=\"dataframe\">\n",
       "  <thead>\n",
       "    <tr style=\"text-align: right;\">\n",
       "      <th></th>\n",
       "      <th>PassengerId</th>\n",
       "      <th>Survived</th>\n",
       "      <th>Pclass</th>\n",
       "      <th>Name</th>\n",
       "      <th>Sex</th>\n",
       "      <th>Age</th>\n",
       "      <th>SibSp</th>\n",
       "      <th>Parch</th>\n",
       "      <th>Ticket</th>\n",
       "      <th>Fare</th>\n",
       "      <th>Cabin</th>\n",
       "      <th>Embarked</th>\n",
       "    </tr>\n",
       "  </thead>\n",
       "  <tbody>\n",
       "    <tr>\n",
       "      <th>0</th>\n",
       "      <td>1</td>\n",
       "      <td>0</td>\n",
       "      <td>3</td>\n",
       "      <td>Braund, Mr. Owen Harris</td>\n",
       "      <td>male</td>\n",
       "      <td>22.0</td>\n",
       "      <td>1</td>\n",
       "      <td>0</td>\n",
       "      <td>A/5 21171</td>\n",
       "      <td>7.2500</td>\n",
       "      <td>NaN</td>\n",
       "      <td>S</td>\n",
       "    </tr>\n",
       "    <tr>\n",
       "      <th>1</th>\n",
       "      <td>2</td>\n",
       "      <td>1</td>\n",
       "      <td>1</td>\n",
       "      <td>Cumings, Mrs. John Bradley (Florence Briggs Th...</td>\n",
       "      <td>female</td>\n",
       "      <td>38.0</td>\n",
       "      <td>1</td>\n",
       "      <td>0</td>\n",
       "      <td>PC 17599</td>\n",
       "      <td>71.2833</td>\n",
       "      <td>C85</td>\n",
       "      <td>C</td>\n",
       "    </tr>\n",
       "    <tr>\n",
       "      <th>2</th>\n",
       "      <td>3</td>\n",
       "      <td>1</td>\n",
       "      <td>3</td>\n",
       "      <td>Heikkinen, Miss. Laina</td>\n",
       "      <td>female</td>\n",
       "      <td>26.0</td>\n",
       "      <td>0</td>\n",
       "      <td>0</td>\n",
       "      <td>STON/O2. 3101282</td>\n",
       "      <td>7.9250</td>\n",
       "      <td>NaN</td>\n",
       "      <td>S</td>\n",
       "    </tr>\n",
       "    <tr>\n",
       "      <th>3</th>\n",
       "      <td>4</td>\n",
       "      <td>1</td>\n",
       "      <td>1</td>\n",
       "      <td>Futrelle, Mrs. Jacques Heath (Lily May Peel)</td>\n",
       "      <td>female</td>\n",
       "      <td>35.0</td>\n",
       "      <td>1</td>\n",
       "      <td>0</td>\n",
       "      <td>113803</td>\n",
       "      <td>53.1000</td>\n",
       "      <td>C123</td>\n",
       "      <td>S</td>\n",
       "    </tr>\n",
       "    <tr>\n",
       "      <th>4</th>\n",
       "      <td>5</td>\n",
       "      <td>0</td>\n",
       "      <td>3</td>\n",
       "      <td>Allen, Mr. William Henry</td>\n",
       "      <td>male</td>\n",
       "      <td>35.0</td>\n",
       "      <td>0</td>\n",
       "      <td>0</td>\n",
       "      <td>373450</td>\n",
       "      <td>8.0500</td>\n",
       "      <td>NaN</td>\n",
       "      <td>S</td>\n",
       "    </tr>\n",
       "  </tbody>\n",
       "</table>\n",
       "</div>"
      ],
      "text/plain": [
       "   PassengerId  Survived  Pclass  \\\n",
       "0            1         0       3   \n",
       "1            2         1       1   \n",
       "2            3         1       3   \n",
       "3            4         1       1   \n",
       "4            5         0       3   \n",
       "\n",
       "                                                Name     Sex   Age  SibSp  \\\n",
       "0                            Braund, Mr. Owen Harris    male  22.0      1   \n",
       "1  Cumings, Mrs. John Bradley (Florence Briggs Th...  female  38.0      1   \n",
       "2                             Heikkinen, Miss. Laina  female  26.0      0   \n",
       "3       Futrelle, Mrs. Jacques Heath (Lily May Peel)  female  35.0      1   \n",
       "4                           Allen, Mr. William Henry    male  35.0      0   \n",
       "\n",
       "   Parch            Ticket     Fare Cabin Embarked  \n",
       "0      0         A/5 21171   7.2500   NaN        S  \n",
       "1      0          PC 17599  71.2833   C85        C  \n",
       "2      0  STON/O2. 3101282   7.9250   NaN        S  \n",
       "3      0            113803  53.1000  C123        S  \n",
       "4      0            373450   8.0500   NaN        S  "
      ]
     },
     "execution_count": 4,
     "metadata": {},
     "output_type": "execute_result"
    }
   ],
   "source": [
    "# First 5 rows\n",
    "\n",
    "df.head()"
   ]
  },
  {
   "cell_type": "code",
   "execution_count": 5,
   "id": "96b0ff79",
   "metadata": {},
   "outputs": [
    {
     "name": "stdout",
     "output_type": "stream",
     "text": [
      "<class 'pandas.core.frame.DataFrame'>\n",
      "RangeIndex: 891 entries, 0 to 890\n",
      "Data columns (total 12 columns):\n",
      " #   Column       Non-Null Count  Dtype  \n",
      "---  ------       --------------  -----  \n",
      " 0   PassengerId  891 non-null    int64  \n",
      " 1   Survived     891 non-null    int64  \n",
      " 2   Pclass       891 non-null    int64  \n",
      " 3   Name         891 non-null    object \n",
      " 4   Sex          891 non-null    object \n",
      " 5   Age          714 non-null    float64\n",
      " 6   SibSp        891 non-null    int64  \n",
      " 7   Parch        891 non-null    int64  \n",
      " 8   Ticket       891 non-null    object \n",
      " 9   Fare         891 non-null    float64\n",
      " 10  Cabin        204 non-null    object \n",
      " 11  Embarked     889 non-null    object \n",
      "dtypes: float64(2), int64(5), object(5)\n",
      "memory usage: 83.7+ KB\n"
     ]
    }
   ],
   "source": [
    "# Information in dataset\n",
    "\n",
    "df.info()"
   ]
  },
  {
   "cell_type": "code",
   "execution_count": 6,
   "id": "02543981",
   "metadata": {},
   "outputs": [
    {
     "data": {
      "text/plain": [
       "(891, 12)"
      ]
     },
     "execution_count": 6,
     "metadata": {},
     "output_type": "execute_result"
    }
   ],
   "source": [
    "# Shape of dataset\n",
    "\n",
    "df.shape"
   ]
  },
  {
   "cell_type": "code",
   "execution_count": 7,
   "id": "e4b699c3",
   "metadata": {},
   "outputs": [
    {
     "data": {
      "text/plain": [
       "PassengerId      0\n",
       "Survived         0\n",
       "Pclass           0\n",
       "Name             0\n",
       "Sex              0\n",
       "Age            177\n",
       "SibSp            0\n",
       "Parch            0\n",
       "Ticket           0\n",
       "Fare             0\n",
       "Cabin          687\n",
       "Embarked         2\n",
       "dtype: int64"
      ]
     },
     "execution_count": 7,
     "metadata": {},
     "output_type": "execute_result"
    }
   ],
   "source": [
    "# Check for missing values\n",
    "\n",
    "df.isnull().sum()"
   ]
  },
  {
   "cell_type": "code",
   "execution_count": 8,
   "id": "3776952b",
   "metadata": {},
   "outputs": [
    {
     "data": {
      "text/plain": [
       "0"
      ]
     },
     "execution_count": 8,
     "metadata": {},
     "output_type": "execute_result"
    }
   ],
   "source": [
    "# check for duplicates\n",
    "\n",
    "df.duplicated().sum()"
   ]
  },
  {
   "cell_type": "markdown",
   "id": "0a25952c",
   "metadata": {},
   "source": [
    "#  2. Do all the necessary pre-processing steps "
   ]
  },
  {
   "cell_type": "code",
   "execution_count": 9,
   "id": "4561da86",
   "metadata": {},
   "outputs": [],
   "source": [
    "# Make ‘PassengerId’ as the index column\n",
    "\n",
    "df = df.set_index('PassengerId')"
   ]
  },
  {
   "cell_type": "code",
   "execution_count": 10,
   "id": "4c65985e",
   "metadata": {},
   "outputs": [],
   "source": [
    "# Drop the missing values in cabin column because a total of 891 values 687 are missing.\n",
    "# Facing an attribute that has a large percentage of missing values, in most analysis,it will be simply dropped.\n",
    "\n",
    "df.drop(['Cabin'],axis=1,inplace = True) "
   ]
  },
  {
   "cell_type": "code",
   "execution_count": 11,
   "id": "f72b0741",
   "metadata": {},
   "outputs": [],
   "source": [
    "# Fill missing values in Age column (numerical variable) with mean\n",
    "\n",
    "df['Age'].fillna(df['Age'].mean(),inplace = True)"
   ]
  },
  {
   "cell_type": "code",
   "execution_count": 12,
   "id": "502f5563",
   "metadata": {},
   "outputs": [],
   "source": [
    "# Fill missing values in Embarked column (categorical variable) with mode\n",
    "\n",
    "df['Embarked'].fillna(df['Embarked'].mode()[0],inplace = True)"
   ]
  },
  {
   "cell_type": "code",
   "execution_count": 13,
   "id": "8d599738",
   "metadata": {},
   "outputs": [],
   "source": [
    "# Drop irrelevant columns\n",
    "\n",
    "df = df.drop(['Name','Ticket'],axis = 1)"
   ]
  },
  {
   "cell_type": "markdown",
   "id": "3b29640b",
   "metadata": {},
   "source": [
    "# Check  and handle outliers"
   ]
  },
  {
   "cell_type": "code",
   "execution_count": 14,
   "id": "9d382327",
   "metadata": {},
   "outputs": [
    {
     "data": {
      "image/png": "[encoded data removed]",
      "text/plain": [
       "<Figure size 640x480 with 1 Axes>"
      ]
     },
     "metadata": {},
     "output_type": "display_data"
    }
   ],
   "source": [
    "# Boxplot of fare before Flooring And Capping Method: \n",
    "\n",
    "plt.boxplot(df['Fare'])\n",
    "plt.show()"
   ]
  },
  {
   "cell_type": "code",
   "execution_count": 15,
   "id": "7546cb5f",
   "metadata": {},
   "outputs": [],
   "source": [
    "# Handling outliers in fare column by Flooring And Capping Method:\n",
    "\n",
    "Q1 = df['Fare'].quantile(0.25)\n",
    "Q3 = df['Fare'].quantile(0.75)\n",
    "IQR = Q3 - Q1\n",
    "whisker_width = 1.5\n",
    "lower_whisker = Q1 -(whisker_width*IQR)\n",
    "upper_whisker = Q3 + (whisker_width*IQR)\n",
    "df['Fare']=np.where(df['Fare']>upper_whisker,upper_whisker,np.where(df['Fare']<lower_whisker,lower_whisker,df['Fare']))"
   ]
  },
  {
   "cell_type": "code",
   "execution_count": 16,
   "id": "ddd8e41d",
   "metadata": {},
   "outputs": [
    {
     "data": {
      "image/png": "[encoded data removed]",
      "text/plain": [
       "<Figure size 640x480 with 1 Axes>"
      ]
     },
     "metadata": {},
     "output_type": "display_data"
    }
   ],
   "source": [
    "# Boxplot of fare after Flooring And Capping Method: \n",
    "\n",
    "plt.boxplot(df['Fare'])\n",
    "plt.show()"
   ]
  },
  {
   "cell_type": "code",
   "execution_count": 17,
   "id": "5edfa917",
   "metadata": {},
   "outputs": [
    {
     "data": {
      "image/png": "[encoded data removed]",
      "text/plain": [
       "<Figure size 640x480 with 1 Axes>"
      ]
     },
     "metadata": {},
     "output_type": "display_data"
    }
   ],
   "source": [
    "# Boxplot of age before Flooring And Capping Method: \n",
    "\n",
    "plt.boxplot(df['Age'])\n",
    "plt.show()"
   ]
  },
  {
   "cell_type": "code",
   "execution_count": 18,
   "id": "8b6f2a43",
   "metadata": {},
   "outputs": [],
   "source": [
    "# Handling outliers in Age column by Flooring And Capping Method:\n",
    "\n",
    "Q1 = df['Age'].quantile(0.25)\n",
    "Q3 = df['Age'].quantile(0.75)\n",
    "IQR = Q3 - Q1\n",
    "whisker_width = 1.5\n",
    "lower_whisker = Q1 -(whisker_width*IQR)\n",
    "upper_whisker = Q3 + (whisker_width*IQR)\n",
    "df['Age']=np.where(df['Age']>upper_whisker,upper_whisker,np.where(df['Age']<lower_whisker,lower_whisker,df['Age']))"
   ]
  },
  {
   "cell_type": "code",
   "execution_count": 19,
   "id": "21042912",
   "metadata": {},
   "outputs": [
    {
     "data": {
      "image/png": "[encoded data removed]",
      "text/plain": [
       "<Figure size 640x480 with 1 Axes>"
      ]
     },
     "metadata": {},
     "output_type": "display_data"
    }
   ],
   "source": [
    "# Boxplot of age after Flooring And Capping Method: \n",
    "\n",
    "plt.boxplot(df['Age'])\n",
    "plt.show()"
   ]
  },
  {
   "cell_type": "code",
   "execution_count": 20,
   "id": "b23f34d7",
   "metadata": {},
   "outputs": [
    {
     "data": {
      "image/png": "[encoded data removed]",
      "text/plain": [
       "<Figure size 640x480 with 1 Axes>"
      ]
     },
     "metadata": {},
     "output_type": "display_data"
    }
   ],
   "source": [
    "# Boxplot of SibSp before Flooring And Capping Method: \n",
    "\n",
    "plt.boxplot(df['SibSp'])\n",
    "plt.show()"
   ]
  },
  {
   "cell_type": "code",
   "execution_count": 21,
   "id": "5abf788a",
   "metadata": {},
   "outputs": [],
   "source": [
    "# Handling outliers in SibSp column by Flooring And Capping Method:\n",
    "\n",
    "Q1 = df['SibSp'].quantile(0.25)\n",
    "Q3 = df['SibSp'].quantile(0.75)\n",
    "IQR = Q3 - Q1\n",
    "whisker_width = 1.5\n",
    "lower_whisker = Q1 -(whisker_width*IQR)\n",
    "upper_whisker = Q3 + (whisker_width*IQR)\n",
    "df['SibSp']=np.where(df['SibSp']>upper_whisker,upper_whisker,np.where(df['SibSp']<lower_whisker,lower_whisker,df['SibSp']))"
   ]
  },
  {
   "cell_type": "code",
   "execution_count": 22,
   "id": "bdd1597a",
   "metadata": {},
   "outputs": [
    {
     "data": {
      "image/png": "[encoded data removed]",
      "text/plain": [
       "<Figure size 640x480 with 1 Axes>"
      ]
     },
     "metadata": {},
     "output_type": "display_data"
    }
   ],
   "source": [
    "# Boxplot of SibSp after Flooring And Capping Method: \n",
    "\n",
    "plt.boxplot(df['SibSp'])\n",
    "plt.show()"
   ]
  },
  {
   "cell_type": "code",
   "execution_count": 23,
   "id": "3ae8d04b",
   "metadata": {},
   "outputs": [
    {
     "data": {
      "image/png": "[encoded data removed]",
      "text/plain": [
       "<Figure size 640x480 with 1 Axes>"
      ]
     },
     "metadata": {},
     "output_type": "display_data"
    }
   ],
   "source": [
    "# Boxplot of Parch before Flooring And Capping Method: \n",
    "\n",
    "plt.boxplot(df['Parch'])\n",
    "plt.show()"
   ]
  },
  {
   "cell_type": "code",
   "execution_count": 24,
   "id": "935a08d0",
   "metadata": {},
   "outputs": [],
   "source": [
    "# Handling outliers in Parch column by Flooring And Capping Method:\n",
    "\n",
    "Q1 = df['Parch'].quantile(0.25)\n",
    "Q3 = df['Parch'].quantile(0.75)\n",
    "IQR = Q3 - Q1\n",
    "whisker_width = 1.5\n",
    "lower_whisker = Q1 -(whisker_width*IQR)\n",
    "upper_whisker = Q3 + (whisker_width*IQR)\n",
    "df['Parch']=np.where(df['Parch']>upper_whisker,upper_whisker,np.where(df['Parch']<lower_whisker,lower_whisker,df['Parch']))"
   ]
  },
  {
   "cell_type": "code",
   "execution_count": 25,
   "id": "c46bbeef",
   "metadata": {},
   "outputs": [
    {
     "data": {
      "image/png": "[encoded data removed]",
      "text/plain": [
       "<Figure size 640x480 with 1 Axes>"
      ]
     },
     "metadata": {},
     "output_type": "display_data"
    }
   ],
   "source": [
    "# Boxplot of Parch after Flooring And Capping Method: \n",
    "\n",
    "plt.boxplot(df['Parch'])\n",
    "plt.show()"
   ]
  },
  {
   "cell_type": "markdown",
   "id": "1aad6ba1",
   "metadata": {},
   "source": [
    "# Encoding"
   ]
  },
  {
   "cell_type": "code",
   "execution_count": 26,
   "id": "d48cd5bc",
   "metadata": {},
   "outputs": [
    {
     "data": {
      "text/html": [
       "<div>\n",
       "<style scoped>\n",
       "    .dataframe tbody tr th:only-of-type {\n",
       "        vertical-align: middle;\n",
       "    }\n",
       "\n",
       "    .dataframe tbody tr th {\n",
       "        vertical-align: top;\n",
       "    }\n",
       "\n",
       "    .dataframe thead th {\n",
       "        text-align: right;\n",
       "    }\n",
       "</style>\n",
       "<table border=\"1\" class=\"dataframe\">\n",
       "  <thead>\n",
       "    <tr style=\"text-align: right;\">\n",
       "      <th></th>\n",
       "      <th>Survived</th>\n",
       "      <th>Pclass</th>\n",
       "      <th>Sex</th>\n",
       "      <th>Age</th>\n",
       "      <th>SibSp</th>\n",
       "      <th>Parch</th>\n",
       "      <th>Fare</th>\n",
       "      <th>Embarked</th>\n",
       "    </tr>\n",
       "    <tr>\n",
       "      <th>PassengerId</th>\n",
       "      <th></th>\n",
       "      <th></th>\n",
       "      <th></th>\n",
       "      <th></th>\n",
       "      <th></th>\n",
       "      <th></th>\n",
       "      <th></th>\n",
       "      <th></th>\n",
       "    </tr>\n",
       "  </thead>\n",
       "  <tbody>\n",
       "    <tr>\n",
       "      <th>1</th>\n",
       "      <td>0</td>\n",
       "      <td>3</td>\n",
       "      <td>1</td>\n",
       "      <td>22.000000</td>\n",
       "      <td>1.0</td>\n",
       "      <td>0.0</td>\n",
       "      <td>7.2500</td>\n",
       "      <td>2</td>\n",
       "    </tr>\n",
       "    <tr>\n",
       "      <th>2</th>\n",
       "      <td>1</td>\n",
       "      <td>1</td>\n",
       "      <td>0</td>\n",
       "      <td>38.000000</td>\n",
       "      <td>1.0</td>\n",
       "      <td>0.0</td>\n",
       "      <td>65.6344</td>\n",
       "      <td>0</td>\n",
       "    </tr>\n",
       "    <tr>\n",
       "      <th>3</th>\n",
       "      <td>1</td>\n",
       "      <td>3</td>\n",
       "      <td>0</td>\n",
       "      <td>26.000000</td>\n",
       "      <td>0.0</td>\n",
       "      <td>0.0</td>\n",
       "      <td>7.9250</td>\n",
       "      <td>2</td>\n",
       "    </tr>\n",
       "    <tr>\n",
       "      <th>4</th>\n",
       "      <td>1</td>\n",
       "      <td>1</td>\n",
       "      <td>0</td>\n",
       "      <td>35.000000</td>\n",
       "      <td>1.0</td>\n",
       "      <td>0.0</td>\n",
       "      <td>53.1000</td>\n",
       "      <td>2</td>\n",
       "    </tr>\n",
       "    <tr>\n",
       "      <th>5</th>\n",
       "      <td>0</td>\n",
       "      <td>3</td>\n",
       "      <td>1</td>\n",
       "      <td>35.000000</td>\n",
       "      <td>0.0</td>\n",
       "      <td>0.0</td>\n",
       "      <td>8.0500</td>\n",
       "      <td>2</td>\n",
       "    </tr>\n",
       "    <tr>\n",
       "      <th>...</th>\n",
       "      <td>...</td>\n",
       "      <td>...</td>\n",
       "      <td>...</td>\n",
       "      <td>...</td>\n",
       "      <td>...</td>\n",
       "      <td>...</td>\n",
       "      <td>...</td>\n",
       "      <td>...</td>\n",
       "    </tr>\n",
       "    <tr>\n",
       "      <th>887</th>\n",
       "      <td>0</td>\n",
       "      <td>2</td>\n",
       "      <td>1</td>\n",
       "      <td>27.000000</td>\n",
       "      <td>0.0</td>\n",
       "      <td>0.0</td>\n",
       "      <td>13.0000</td>\n",
       "      <td>2</td>\n",
       "    </tr>\n",
       "    <tr>\n",
       "      <th>888</th>\n",
       "      <td>1</td>\n",
       "      <td>1</td>\n",
       "      <td>0</td>\n",
       "      <td>19.000000</td>\n",
       "      <td>0.0</td>\n",
       "      <td>0.0</td>\n",
       "      <td>30.0000</td>\n",
       "      <td>2</td>\n",
       "    </tr>\n",
       "    <tr>\n",
       "      <th>889</th>\n",
       "      <td>0</td>\n",
       "      <td>3</td>\n",
       "      <td>0</td>\n",
       "      <td>29.699118</td>\n",
       "      <td>1.0</td>\n",
       "      <td>0.0</td>\n",
       "      <td>23.4500</td>\n",
       "      <td>2</td>\n",
       "    </tr>\n",
       "    <tr>\n",
       "      <th>890</th>\n",
       "      <td>1</td>\n",
       "      <td>1</td>\n",
       "      <td>1</td>\n",
       "      <td>26.000000</td>\n",
       "      <td>0.0</td>\n",
       "      <td>0.0</td>\n",
       "      <td>30.0000</td>\n",
       "      <td>0</td>\n",
       "    </tr>\n",
       "    <tr>\n",
       "      <th>891</th>\n",
       "      <td>0</td>\n",
       "      <td>3</td>\n",
       "      <td>1</td>\n",
       "      <td>32.000000</td>\n",
       "      <td>0.0</td>\n",
       "      <td>0.0</td>\n",
       "      <td>7.7500</td>\n",
       "      <td>1</td>\n",
       "    </tr>\n",
       "  </tbody>\n",
       "</table>\n",
       "<p>891 rows × 8 columns</p>\n",
       "</div>"
      ],
      "text/plain": [
       "             Survived  Pclass  Sex        Age  SibSp  Parch     Fare  Embarked\n",
       "PassengerId                                                                   \n",
       "1                   0       3    1  22.000000    1.0    0.0   7.2500         2\n",
       "2                   1       1    0  38.000000    1.0    0.0  65.6344         0\n",
       "3                   1       3    0  26.000000    0.0    0.0   7.9250         2\n",
       "4                   1       1    0  35.000000    1.0    0.0  53.1000         2\n",
       "5                   0       3    1  35.000000    0.0    0.0   8.0500         2\n",
       "...               ...     ...  ...        ...    ...    ...      ...       ...\n",
       "887                 0       2    1  27.000000    0.0    0.0  13.0000         2\n",
       "888                 1       1    0  19.000000    0.0    0.0  30.0000         2\n",
       "889                 0       3    0  29.699118    1.0    0.0  23.4500         2\n",
       "890                 1       1    1  26.000000    0.0    0.0  30.0000         0\n",
       "891                 0       3    1  32.000000    0.0    0.0   7.7500         1\n",
       "\n",
       "[891 rows x 8 columns]"
      ]
     },
     "execution_count": 26,
     "metadata": {},
     "output_type": "execute_result"
    }
   ],
   "source": [
    "# Label encoding for categorical columns sex and embarked\n",
    "\n",
    "from sklearn.preprocessing import LabelEncoder\n",
    "df[['Sex','Embarked']] = df[['Sex','Embarked']].apply(LabelEncoder().fit_transform)\n",
    "\n",
    "# display updated dataframe\n",
    "\n",
    "df"
   ]
  },
  {
   "cell_type": "markdown",
   "id": "7e66061f",
   "metadata": {},
   "source": [
    "# MinMax Scaling"
   ]
  },
  {
   "cell_type": "code",
   "execution_count": 27,
   "id": "8b5ab275",
   "metadata": {},
   "outputs": [],
   "source": [
    "# Min max scaling on the feature set (Take ‘Survived’ as target)\n",
    "\n",
    "# Dataframe with feature columns\n",
    "\n",
    "x = df.drop('Survived',axis = 1)\n",
    "\n",
    "# Target column\n",
    "\n",
    "y = df['Survived']"
   ]
  },
  {
   "cell_type": "code",
   "execution_count": 28,
   "id": "7c85bfe3",
   "metadata": {},
   "outputs": [
    {
     "data": {
      "text/plain": [
       "Pclass        int64\n",
       "Sex           int32\n",
       "Age         float64\n",
       "SibSp       float64\n",
       "Parch       float64\n",
       "Fare        float64\n",
       "Embarked      int32\n",
       "dtype: object"
      ]
     },
     "execution_count": 28,
     "metadata": {},
     "output_type": "execute_result"
    }
   ],
   "source": [
    "# data types in dataframe x\n",
    "\n",
    "x.dtypes"
   ]
  },
  {
   "cell_type": "code",
   "execution_count": 29,
   "id": "18034a3b",
   "metadata": {},
   "outputs": [],
   "source": [
    "# Importing MinMax scaler\n",
    "\n",
    "from sklearn.preprocessing import MinMaxScaler"
   ]
  },
  {
   "cell_type": "code",
   "execution_count": 30,
   "id": "a87b86c5",
   "metadata": {},
   "outputs": [],
   "source": [
    "min_max = MinMaxScaler()"
   ]
  },
  {
   "cell_type": "code",
   "execution_count": 31,
   "id": "cbcc6bf1",
   "metadata": {},
   "outputs": [],
   "source": [
    "# Scaling the dataset\n",
    "\n",
    "x = min_max.fit_transform(x)"
   ]
  },
  {
   "cell_type": "markdown",
   "id": "652039de",
   "metadata": {},
   "source": [
    "The variable will be converted into a numpy array after scaling.So convert it into dataframe"
   ]
  },
  {
   "cell_type": "code",
   "execution_count": 32,
   "id": "7c34eba4",
   "metadata": {},
   "outputs": [],
   "source": [
    "# Coverting numpy array into dataframe\n",
    "\n",
    "x = pd.DataFrame(x, columns = ['Pclass','Sex','Age','Sibsp','Parch','Fare','Embarked'])"
   ]
  },
  {
   "cell_type": "code",
   "execution_count": 33,
   "id": "25b28183",
   "metadata": {},
   "outputs": [
    {
     "data": {
      "text/html": [
       "<div>\n",
       "<style scoped>\n",
       "    .dataframe tbody tr th:only-of-type {\n",
       "        vertical-align: middle;\n",
       "    }\n",
       "\n",
       "    .dataframe tbody tr th {\n",
       "        vertical-align: top;\n",
       "    }\n",
       "\n",
       "    .dataframe thead th {\n",
       "        text-align: right;\n",
       "    }\n",
       "</style>\n",
       "<table border=\"1\" class=\"dataframe\">\n",
       "  <thead>\n",
       "    <tr style=\"text-align: right;\">\n",
       "      <th></th>\n",
       "      <th>Pclass</th>\n",
       "      <th>Sex</th>\n",
       "      <th>Age</th>\n",
       "      <th>Sibsp</th>\n",
       "      <th>Parch</th>\n",
       "      <th>Fare</th>\n",
       "      <th>Embarked</th>\n",
       "    </tr>\n",
       "  </thead>\n",
       "  <tbody>\n",
       "    <tr>\n",
       "      <th>0</th>\n",
       "      <td>1.0</td>\n",
       "      <td>1.0</td>\n",
       "      <td>0.375000</td>\n",
       "      <td>0.4</td>\n",
       "      <td>0.0</td>\n",
       "      <td>0.110460</td>\n",
       "      <td>1.0</td>\n",
       "    </tr>\n",
       "    <tr>\n",
       "      <th>1</th>\n",
       "      <td>0.0</td>\n",
       "      <td>0.0</td>\n",
       "      <td>0.682692</td>\n",
       "      <td>0.4</td>\n",
       "      <td>0.0</td>\n",
       "      <td>1.000000</td>\n",
       "      <td>0.0</td>\n",
       "    </tr>\n",
       "    <tr>\n",
       "      <th>2</th>\n",
       "      <td>1.0</td>\n",
       "      <td>0.0</td>\n",
       "      <td>0.451923</td>\n",
       "      <td>0.0</td>\n",
       "      <td>0.0</td>\n",
       "      <td>0.120745</td>\n",
       "      <td>1.0</td>\n",
       "    </tr>\n",
       "    <tr>\n",
       "      <th>3</th>\n",
       "      <td>0.0</td>\n",
       "      <td>0.0</td>\n",
       "      <td>0.625000</td>\n",
       "      <td>0.4</td>\n",
       "      <td>0.0</td>\n",
       "      <td>0.809027</td>\n",
       "      <td>1.0</td>\n",
       "    </tr>\n",
       "    <tr>\n",
       "      <th>4</th>\n",
       "      <td>1.0</td>\n",
       "      <td>1.0</td>\n",
       "      <td>0.625000</td>\n",
       "      <td>0.0</td>\n",
       "      <td>0.0</td>\n",
       "      <td>0.122649</td>\n",
       "      <td>1.0</td>\n",
       "    </tr>\n",
       "    <tr>\n",
       "      <th>...</th>\n",
       "      <td>...</td>\n",
       "      <td>...</td>\n",
       "      <td>...</td>\n",
       "      <td>...</td>\n",
       "      <td>...</td>\n",
       "      <td>...</td>\n",
       "      <td>...</td>\n",
       "    </tr>\n",
       "    <tr>\n",
       "      <th>886</th>\n",
       "      <td>0.5</td>\n",
       "      <td>1.0</td>\n",
       "      <td>0.471154</td>\n",
       "      <td>0.0</td>\n",
       "      <td>0.0</td>\n",
       "      <td>0.198067</td>\n",
       "      <td>1.0</td>\n",
       "    </tr>\n",
       "    <tr>\n",
       "      <th>887</th>\n",
       "      <td>0.0</td>\n",
       "      <td>0.0</td>\n",
       "      <td>0.317308</td>\n",
       "      <td>0.0</td>\n",
       "      <td>0.0</td>\n",
       "      <td>0.457077</td>\n",
       "      <td>1.0</td>\n",
       "    </tr>\n",
       "    <tr>\n",
       "      <th>888</th>\n",
       "      <td>1.0</td>\n",
       "      <td>0.0</td>\n",
       "      <td>0.523060</td>\n",
       "      <td>0.4</td>\n",
       "      <td>0.0</td>\n",
       "      <td>0.357282</td>\n",
       "      <td>1.0</td>\n",
       "    </tr>\n",
       "    <tr>\n",
       "      <th>889</th>\n",
       "      <td>0.0</td>\n",
       "      <td>1.0</td>\n",
       "      <td>0.451923</td>\n",
       "      <td>0.0</td>\n",
       "      <td>0.0</td>\n",
       "      <td>0.457077</td>\n",
       "      <td>0.0</td>\n",
       "    </tr>\n",
       "    <tr>\n",
       "      <th>890</th>\n",
       "      <td>1.0</td>\n",
       "      <td>1.0</td>\n",
       "      <td>0.567308</td>\n",
       "      <td>0.0</td>\n",
       "      <td>0.0</td>\n",
       "      <td>0.118078</td>\n",
       "      <td>0.5</td>\n",
       "    </tr>\n",
       "  </tbody>\n",
       "</table>\n",
       "<p>891 rows × 7 columns</p>\n",
       "</div>"
      ],
      "text/plain": [
       "     Pclass  Sex       Age  Sibsp  Parch      Fare  Embarked\n",
       "0       1.0  1.0  0.375000    0.4    0.0  0.110460       1.0\n",
       "1       0.0  0.0  0.682692    0.4    0.0  1.000000       0.0\n",
       "2       1.0  0.0  0.451923    0.0    0.0  0.120745       1.0\n",
       "3       0.0  0.0  0.625000    0.4    0.0  0.809027       1.0\n",
       "4       1.0  1.0  0.625000    0.0    0.0  0.122649       1.0\n",
       "..      ...  ...       ...    ...    ...       ...       ...\n",
       "886     0.5  1.0  0.471154    0.0    0.0  0.198067       1.0\n",
       "887     0.0  0.0  0.317308    0.0    0.0  0.457077       1.0\n",
       "888     1.0  0.0  0.523060    0.4    0.0  0.357282       1.0\n",
       "889     0.0  1.0  0.451923    0.0    0.0  0.457077       0.0\n",
       "890     1.0  1.0  0.567308    0.0    0.0  0.118078       0.5\n",
       "\n",
       "[891 rows x 7 columns]"
      ]
     },
     "execution_count": 33,
     "metadata": {},
     "output_type": "execute_result"
    }
   ],
   "source": [
    "# Display Dataframe formed\n",
    "\n",
    "x"
   ]
  },
  {
   "cell_type": "markdown",
   "id": "38dc8f5a",
   "metadata": {},
   "source": [
    "# 3. Create kNN and SVM models "
   ]
  },
  {
   "cell_type": "code",
   "execution_count": 34,
   "id": "b1e200ff",
   "metadata": {},
   "outputs": [],
   "source": [
    "# Import train_test_split\n",
    "\n",
    "from sklearn.model_selection import train_test_split\n",
    "x_train,x_test,y_train,y_test = train_test_split(x,y,test_size=0.2,random_state = 43)"
   ]
  },
  {
   "cell_type": "code",
   "execution_count": 35,
   "id": "31c9991f",
   "metadata": {},
   "outputs": [],
   "source": [
    "# Import kNN and SVM Model libraries\n",
    "\n",
    "from sklearn.neighbors import KNeighborsClassifier\n",
    "from sklearn.svm import SVC\n",
    "\n",
    "# create an istant of kNN and SVM Models\n",
    "\n",
    "knn = KNeighborsClassifier()\n",
    "svm = SVC()"
   ]
  },
  {
   "cell_type": "code",
   "execution_count": 36,
   "id": "1a6f6314",
   "metadata": {},
   "outputs": [],
   "source": [
    "# kNN model\n",
    "\n",
    "from sklearn.neighbors import KNeighborsClassifier\n",
    "metric = []\n",
    "neighbors = np.arange(3,15)\n",
    "\n",
    "from sklearn.metrics import accuracy_score\n",
    "\n",
    "for k in neighbors:\n",
    "    classifier = KNeighborsClassifier(n_neighbors = k, metric = 'minkowski', p=2)\n",
    "    classifier.fit(x_train,y_train)\n",
    "    y_pred_knn = classifier.predict(x_test)\n",
    "    acc = accuracy_score(y_test,y_pred_knn)\n",
    "    metric.append(acc)"
   ]
  },
  {
   "cell_type": "code",
   "execution_count": 37,
   "id": "02905d5b",
   "metadata": {},
   "outputs": [
    {
     "data": {
      "image/png": "[encoded data removed]",
      "text/plain": [
       "<Figure size 640x480 with 1 Axes>"
      ]
     },
     "metadata": {},
     "output_type": "display_data"
    }
   ],
   "source": [
    "plt.plot(neighbors,metric,'o-')\n",
    "plt.xlabel('k value')\n",
    "plt.ylabel('Accuracy')\n",
    "plt.grid()"
   ]
  },
  {
   "cell_type": "code",
   "execution_count": 38,
   "id": "90475de1",
   "metadata": {},
   "outputs": [],
   "source": [
    "classifier = KNeighborsClassifier(n_neighbors = 9, metric = 'minkowski', p=2)\n",
    "classifier.fit(x_train,y_train)\n",
    "y_pred_knn = classifier.predict(x_test)"
   ]
  },
  {
   "cell_type": "code",
   "execution_count": 39,
   "id": "167fa53b",
   "metadata": {},
   "outputs": [
    {
     "name": "stdout",
     "output_type": "stream",
     "text": [
      "Accuracy : 0.7821229050279329\n",
      "Precision : 0.7821229050279329\n",
      "Recall : 0.7821229050279329\n",
      "F1 Score : 0.7821229050279329\n"
     ]
    }
   ],
   "source": [
    "# Evaluation of kNN model  \n",
    "\n",
    "from sklearn.metrics import confusion_matrix, accuracy_score, precision_score, recall_score, f1_score\n",
    "\n",
    "print('Accuracy :', accuracy_score(y_test,y_pred_knn))\n",
    "print('Precision :', precision_score(y_test,y_pred_knn,average = 'micro'))\n",
    "print('Recall :', recall_score(y_test,y_pred_knn,average = 'micro'))\n",
    "print('F1 Score :', f1_score(y_test,y_pred_knn,average =  'micro'))"
   ]
  },
  {
   "cell_type": "code",
   "execution_count": 40,
   "id": "2e86ddc1",
   "metadata": {},
   "outputs": [],
   "source": [
    "# SVM model\n",
    "\n",
    "from sklearn.svm import SVC\n",
    "clf_svm = SVC(gamma='auto')\n",
    "clf_svm.fit(x_train,y_train)\n",
    "yhat = clf_svm.predict(x_test)\n",
    "clf_SVM = SVC(gamma='auto')\n",
    "clf_SVM.fit(x,y)\n",
    "pred_svm = clf_SVM.predict(x_test)"
   ]
  },
  {
   "cell_type": "code",
   "execution_count": 41,
   "id": "96ba3132",
   "metadata": {},
   "outputs": [
    {
     "name": "stdout",
     "output_type": "stream",
     "text": [
      "Accuracy : 0.7318435754189944\n",
      "Precision : 0.7318435754189944\n",
      "Recall : 0.7318435754189944\n",
      "F1 Score : 0.7318435754189944\n"
     ]
    }
   ],
   "source": [
    "# Evaluation of SVM model\n",
    "\n",
    "from sklearn.metrics import confusion_matrix, accuracy_score, precision_score, recall_score, f1_score\n",
    "\n",
    "print('Accuracy :', accuracy_score(y_test,pred_svm))\n",
    "print('Precision :', precision_score(y_test,pred_svm,average = 'micro'))\n",
    "print('Recall :', recall_score(y_test,pred_svm,average = 'micro'))\n",
    "print('F1 Score :', f1_score(y_test,pred_svm,average =  'micro'))"
   ]
  },
  {
   "cell_type": "markdown",
   "id": "c350137e",
   "metadata": {},
   "source": [
    "# 4. Do k-fold and stratified k-fold cross validation techniques and find the average accuracy score of the models "
   ]
  },
  {
   "cell_type": "code",
   "execution_count": 42,
   "id": "59ebbaa0",
   "metadata": {},
   "outputs": [],
   "source": [
    "# Import k-fold and stratified k-fold cross validation libraries \n",
    "\n",
    "from sklearn.model_selection import cross_val_score,StratifiedKFold,KFold\n",
    "\n",
    "# Define the number of fold\n",
    "\n",
    "k =5\n",
    "\n",
    "# k-fold cross validation\n",
    "\n",
    "k_fold_scores_knn = cross_val_score(knn,x,y,cv=KFold(n_splits=k))\n",
    "k_fold_scores_svm = cross_val_score(svm,x,y,cv=KFold(n_splits=k))\n",
    "\n",
    "# Stratified k-fold cross validation\n",
    "\n",
    "stratified_k_fold_scores_knn = cross_val_score(knn,x,y,cv=StratifiedKFold(n_splits=k))\n",
    "stratified_k_fold_scores_svm = cross_val_score(svm,x,y,cv=StratifiedKFold(n_splits=k))"
   ]
  },
  {
   "cell_type": "code",
   "execution_count": 43,
   "id": "fe80a8b0",
   "metadata": {},
   "outputs": [
    {
     "name": "stdout",
     "output_type": "stream",
     "text": [
      "Average accuracy of k-fold kNN : 0.8047517418868871\n",
      "Average accuracy of k-fold SVM : 0.8047517418868871\n",
      "Average accuracy of Stratified k-fold kNN : 0.8013809553700332\n",
      "Average accuracy of Stratified k-fold SVM : 0.8069612704789405\n"
     ]
    }
   ],
   "source": [
    "# calculate the average accuracy scores\n",
    "\n",
    "average_accuracy_knn = k_fold_scores_knn.mean()\n",
    "average_accuracy_svm = k_fold_scores_knn.mean()\n",
    "average_accuracy_stratified_knn = stratified_k_fold_scores_knn.mean()\n",
    "average_accuracy_stratified_svm = stratified_k_fold_scores_svm.mean()\n",
    "\n",
    "print('Average accuracy of k-fold kNN :',average_accuracy_knn)\n",
    "print('Average accuracy of k-fold SVM :',average_accuracy_knn)\n",
    "print('Average accuracy of Stratified k-fold kNN :',average_accuracy_stratified_knn)\n",
    "print('Average accuracy of Stratified k-fold SVM :',average_accuracy_stratified_svm)"
   ]
  }
 ],
 "metadata": {
  "kernelspec": {
   "display_name": "Python 3 (ipykernel)",
   "language": "python",
   "name": "python3"
  },
  "language_info": {
   "codemirror_mode": {
    "name": "ipython",
    "version": 3
   },
   "file_extension": ".py",
   "mimetype": "text/x-python",
   "name": "python",
   "nbconvert_exporter": "python",
   "pygments_lexer": "ipython3",
   "version": "3.10.9"
  }
 },
 "nbformat": 4,
 "nbformat_minor": 5
}
