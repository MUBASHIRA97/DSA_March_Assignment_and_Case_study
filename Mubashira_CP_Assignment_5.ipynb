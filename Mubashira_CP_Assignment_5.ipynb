{
 "cells": [
  {
   "cell_type": "code",
   "execution_count": 1,
   "id": "788edc65",
   "metadata": {},
   "outputs": [],
   "source": [
    "# Import libraries\n",
    "\n",
    "import numpy as np\n",
    "import pandas as pd\n",
    "import matplotlib.pyplot as plt"
   ]
  },
  {
   "cell_type": "code",
   "execution_count": 2,
   "id": "4fbb39a1",
   "metadata": {},
   "outputs": [],
   "source": [
    "# Read the dataset\n",
    "\n",
    "df = pd.read_excel(r'C:\\Users\\USER\\Downloads\\iris_1.xls')"
   ]
  },
  {
   "cell_type": "code",
   "execution_count": 3,
   "id": "82d5435d",
   "metadata": {},
   "outputs": [
    {
     "data": {
      "text/plain": [
       "Index(['SL', 'SW', 'PL', 'PW', 'Classification'], dtype='object')"
      ]
     },
     "execution_count": 3,
     "metadata": {},
     "output_type": "execute_result"
    }
   ],
   "source": [
    "# Columns in dataset\n",
    "\n",
    "df.columns"
   ]
  },
  {
   "cell_type": "code",
   "execution_count": 4,
   "id": "e86e070d",
   "metadata": {},
   "outputs": [
    {
     "data": {
      "text/html": [
       "<div>\n",
       "<style scoped>\n",
       "    .dataframe tbody tr th:only-of-type {\n",
       "        vertical-align: middle;\n",
       "    }\n",
       "\n",
       "    .dataframe tbody tr th {\n",
       "        vertical-align: top;\n",
       "    }\n",
       "\n",
       "    .dataframe thead th {\n",
       "        text-align: right;\n",
       "    }\n",
       "</style>\n",
       "<table border=\"1\" class=\"dataframe\">\n",
       "  <thead>\n",
       "    <tr style=\"text-align: right;\">\n",
       "      <th></th>\n",
       "      <th>SL</th>\n",
       "      <th>SW</th>\n",
       "      <th>PL</th>\n",
       "      <th>PW</th>\n",
       "      <th>Classification</th>\n",
       "    </tr>\n",
       "  </thead>\n",
       "  <tbody>\n",
       "    <tr>\n",
       "      <th>0</th>\n",
       "      <td>5.1</td>\n",
       "      <td>3.5</td>\n",
       "      <td>1.4</td>\n",
       "      <td>0.2</td>\n",
       "      <td>Iris-setosa</td>\n",
       "    </tr>\n",
       "    <tr>\n",
       "      <th>1</th>\n",
       "      <td>4.9</td>\n",
       "      <td>3.0</td>\n",
       "      <td>1.4</td>\n",
       "      <td>0.2</td>\n",
       "      <td>Iris-setosa</td>\n",
       "    </tr>\n",
       "    <tr>\n",
       "      <th>2</th>\n",
       "      <td>NaN</td>\n",
       "      <td>3.2</td>\n",
       "      <td>1.3</td>\n",
       "      <td>0.2</td>\n",
       "      <td>Iris-setosa</td>\n",
       "    </tr>\n",
       "    <tr>\n",
       "      <th>3</th>\n",
       "      <td>4.6</td>\n",
       "      <td>3.1</td>\n",
       "      <td>1.5</td>\n",
       "      <td>0.2</td>\n",
       "      <td>Iris-setosa</td>\n",
       "    </tr>\n",
       "    <tr>\n",
       "      <th>4</th>\n",
       "      <td>5.0</td>\n",
       "      <td>3.6</td>\n",
       "      <td>1.4</td>\n",
       "      <td>0.2</td>\n",
       "      <td>Iris-setosa</td>\n",
       "    </tr>\n",
       "  </tbody>\n",
       "</table>\n",
       "</div>"
      ],
      "text/plain": [
       "    SL   SW   PL   PW Classification\n",
       "0  5.1  3.5  1.4  0.2    Iris-setosa\n",
       "1  4.9  3.0  1.4  0.2    Iris-setosa\n",
       "2  NaN  3.2  1.3  0.2    Iris-setosa\n",
       "3  4.6  3.1  1.5  0.2    Iris-setosa\n",
       "4  5.0  3.6  1.4  0.2    Iris-setosa"
      ]
     },
     "execution_count": 4,
     "metadata": {},
     "output_type": "execute_result"
    }
   ],
   "source": [
    "# First 5 rows\n",
    "\n",
    "df.head()"
   ]
  },
  {
   "cell_type": "code",
   "execution_count": 5,
   "id": "76822b74",
   "metadata": {},
   "outputs": [
    {
     "name": "stdout",
     "output_type": "stream",
     "text": [
      "<class 'pandas.core.frame.DataFrame'>\n",
      "RangeIndex: 150 entries, 0 to 149\n",
      "Data columns (total 5 columns):\n",
      " #   Column          Non-Null Count  Dtype  \n",
      "---  ------          --------------  -----  \n",
      " 0   SL              143 non-null    float64\n",
      " 1   SW              144 non-null    float64\n",
      " 2   PL              144 non-null    float64\n",
      " 3   PW              150 non-null    float64\n",
      " 4   Classification  150 non-null    object \n",
      "dtypes: float64(4), object(1)\n",
      "memory usage: 6.0+ KB\n"
     ]
    }
   ],
   "source": [
    "# Information in dataset\n",
    "\n",
    "df.info()"
   ]
  },
  {
   "cell_type": "code",
   "execution_count": 6,
   "id": "ca74db64",
   "metadata": {},
   "outputs": [
    {
     "data": {
      "text/plain": [
       "(150, 5)"
      ]
     },
     "execution_count": 6,
     "metadata": {},
     "output_type": "execute_result"
    }
   ],
   "source": [
    "# Shape of dataset\n",
    "\n",
    "df.shape"
   ]
  },
  {
   "cell_type": "code",
   "execution_count": 7,
   "id": "35369164",
   "metadata": {},
   "outputs": [
    {
     "data": {
      "text/plain": [
       "SL                7\n",
       "SW                6\n",
       "PL                6\n",
       "PW                0\n",
       "Classification    0\n",
       "dtype: int64"
      ]
     },
     "execution_count": 7,
     "metadata": {},
     "output_type": "execute_result"
    }
   ],
   "source": [
    "# Check for missing values\n",
    "\n",
    "df.isnull().sum()"
   ]
  },
  {
   "cell_type": "code",
   "execution_count": 8,
   "id": "bbe1469b",
   "metadata": {},
   "outputs": [],
   "source": [
    "# Drop missing values since there is only less number of missing values\n",
    "\n",
    "df = df.dropna()"
   ]
  },
  {
   "cell_type": "code",
   "execution_count": 9,
   "id": "1e165669",
   "metadata": {},
   "outputs": [
    {
     "data": {
      "text/plain": [
       "3"
      ]
     },
     "execution_count": 9,
     "metadata": {},
     "output_type": "execute_result"
    }
   ],
   "source": [
    "# check for duplicates\n",
    "\n",
    "df.duplicated().sum()"
   ]
  },
  {
   "cell_type": "code",
   "execution_count": 10,
   "id": "06d0c082",
   "metadata": {},
   "outputs": [],
   "source": [
    "# Drop duplicated values\n",
    "\n",
    "df.drop_duplicates(inplace=True)"
   ]
  },
  {
   "cell_type": "markdown",
   "id": "6c4b095f",
   "metadata": {},
   "source": [
    "# Check and handle outliers"
   ]
  },
  {
   "cell_type": "code",
   "execution_count": 11,
   "id": "c2e7fed9",
   "metadata": {},
   "outputs": [
    {
     "data": {
      "image/png": "[encoded data removed]",
      "text/plain": [
       "<Figure size 640x480 with 1 Axes>"
      ]
     },
     "metadata": {},
     "output_type": "display_data"
    }
   ],
   "source": [
    "# Boxplot\n",
    "\n",
    "df[['SL', 'SW','PL','PW']].plot(kind='box', title='boxplot')\n",
    "plt.show()"
   ]
  },
  {
   "cell_type": "markdown",
   "id": "a07c6bdf",
   "metadata": {},
   "source": [
    "From the boxplots, outliers are present in SW"
   ]
  },
  {
   "cell_type": "code",
   "execution_count": 12,
   "id": "035c3c63",
   "metadata": {},
   "outputs": [],
   "source": [
    "# Handling outliers using Flooring And Capping Method:\n",
    "\n",
    "Q1 = df['SW'].quantile(0.25)\n",
    "Q3 = df['SW'].quantile(0.75)\n",
    "IQR = Q3 - Q1\n",
    "whisker_width = 1.5\n",
    "lower_whisker = Q1 -(whisker_width*IQR)\n",
    "upper_whisker = Q3 + (whisker_width*IQR)\n",
    "df['SW']=np.where(df['SW']>upper_whisker,upper_whisker,np.where(df['SW']<lower_whisker,lower_whisker,df['SW']))"
   ]
  },
  {
   "cell_type": "code",
   "execution_count": 13,
   "id": "4c4d4230",
   "metadata": {},
   "outputs": [
    {
     "data": {
      "image/png": "[encoded data removed]",
      "text/plain": [
       "<Figure size 640x480 with 1 Axes>"
      ]
     },
     "metadata": {},
     "output_type": "display_data"
    }
   ],
   "source": [
    "# Boxplot after Flooring And Capping Method:\n",
    "\n",
    "plt.boxplot(df['SW'])\n",
    "plt.show()"
   ]
  },
  {
   "cell_type": "markdown",
   "id": "c2adb7ba",
   "metadata": {},
   "source": [
    "# Encoding"
   ]
  },
  {
   "cell_type": "code",
   "execution_count": 14,
   "id": "8a9f6d1a",
   "metadata": {},
   "outputs": [
    {
     "data": {
      "text/plain": [
       "Iris-versicolor    44\n",
       "Iris-virginica     44\n",
       "Iris-setosa        40\n",
       "Name: Classification, dtype: int64"
      ]
     },
     "execution_count": 14,
     "metadata": {},
     "output_type": "execute_result"
    }
   ],
   "source": [
    "df['Classification'].value_counts()"
   ]
  },
  {
   "cell_type": "code",
   "execution_count": 15,
   "id": "99cabe4e",
   "metadata": {},
   "outputs": [
    {
     "data": {
      "text/plain": [
       "[array(['Iris-setosa', 'Iris-versicolor', 'Iris-virginica'], dtype=object)]"
      ]
     },
     "execution_count": 15,
     "metadata": {},
     "output_type": "execute_result"
    }
   ],
   "source": [
    "# Encoding the categorical data (One hot encoding)\n",
    "\n",
    "from sklearn.preprocessing import OneHotEncoder\n",
    "one_hot = OneHotEncoder()\n",
    "transformed_data = one_hot.fit_transform(df['Classification'].values.reshape(-1,1)).toarray()\n",
    "one_hot.categories_"
   ]
  },
  {
   "cell_type": "code",
   "execution_count": 16,
   "id": "add7015c",
   "metadata": {},
   "outputs": [
    {
     "data": {
      "text/html": [
       "<div>\n",
       "<style scoped>\n",
       "    .dataframe tbody tr th:only-of-type {\n",
       "        vertical-align: middle;\n",
       "    }\n",
       "\n",
       "    .dataframe tbody tr th {\n",
       "        vertical-align: top;\n",
       "    }\n",
       "\n",
       "    .dataframe thead th {\n",
       "        text-align: right;\n",
       "    }\n",
       "</style>\n",
       "<table border=\"1\" class=\"dataframe\">\n",
       "  <thead>\n",
       "    <tr style=\"text-align: right;\">\n",
       "      <th></th>\n",
       "      <th>Iris-setosa</th>\n",
       "      <th>Iris-versicolor</th>\n",
       "      <th>Iris-virginica</th>\n",
       "    </tr>\n",
       "  </thead>\n",
       "  <tbody>\n",
       "    <tr>\n",
       "      <th>0</th>\n",
       "      <td>1.0</td>\n",
       "      <td>0.0</td>\n",
       "      <td>0.0</td>\n",
       "    </tr>\n",
       "    <tr>\n",
       "      <th>1</th>\n",
       "      <td>1.0</td>\n",
       "      <td>0.0</td>\n",
       "      <td>0.0</td>\n",
       "    </tr>\n",
       "    <tr>\n",
       "      <th>2</th>\n",
       "      <td>1.0</td>\n",
       "      <td>0.0</td>\n",
       "      <td>0.0</td>\n",
       "    </tr>\n",
       "    <tr>\n",
       "      <th>3</th>\n",
       "      <td>1.0</td>\n",
       "      <td>0.0</td>\n",
       "      <td>0.0</td>\n",
       "    </tr>\n",
       "    <tr>\n",
       "      <th>4</th>\n",
       "      <td>1.0</td>\n",
       "      <td>0.0</td>\n",
       "      <td>0.0</td>\n",
       "    </tr>\n",
       "  </tbody>\n",
       "</table>\n",
       "</div>"
      ],
      "text/plain": [
       "   Iris-setosa  Iris-versicolor  Iris-virginica\n",
       "0          1.0              0.0             0.0\n",
       "1          1.0              0.0             0.0\n",
       "2          1.0              0.0             0.0\n",
       "3          1.0              0.0             0.0\n",
       "4          1.0              0.0             0.0"
      ]
     },
     "execution_count": 16,
     "metadata": {},
     "output_type": "execute_result"
    }
   ],
   "source": [
    "transformed_data = pd.DataFrame(transformed_data, columns = ['Iris-setosa', 'Iris-versicolor', 'Iris-virginica'])\n",
    "transformed_data.head()"
   ]
  },
  {
   "cell_type": "markdown",
   "id": "9ad2d01f",
   "metadata": {},
   "source": [
    "# MinMax Scaling : take classification column as target"
   ]
  },
  {
   "cell_type": "code",
   "execution_count": 17,
   "id": "2084cae9",
   "metadata": {},
   "outputs": [],
   "source": [
    "# Dataframe with feature columns\n",
    "\n",
    "x = df.drop('Classification',axis = 1)\n",
    "\n",
    "# Target column\n",
    "\n",
    "y = df['Classification']"
   ]
  },
  {
   "cell_type": "code",
   "execution_count": 18,
   "id": "d421bfca",
   "metadata": {},
   "outputs": [],
   "source": [
    "# Importing MinMax scaler\n",
    "\n",
    "from sklearn.preprocessing import MinMaxScaler"
   ]
  },
  {
   "cell_type": "code",
   "execution_count": 19,
   "id": "46fb9789",
   "metadata": {},
   "outputs": [],
   "source": [
    "min_max = MinMaxScaler()"
   ]
  },
  {
   "cell_type": "code",
   "execution_count": 20,
   "id": "06801e77",
   "metadata": {},
   "outputs": [],
   "source": [
    "# Scaling the dataset\n",
    "\n",
    "x = min_max.fit_transform(x)"
   ]
  },
  {
   "cell_type": "markdown",
   "id": "90eab592",
   "metadata": {},
   "source": [
    "The variable will be converted into a numpy array after scaling.So convert it into dataframe"
   ]
  },
  {
   "cell_type": "code",
   "execution_count": 21,
   "id": "aa7f93e4",
   "metadata": {},
   "outputs": [],
   "source": [
    "# Coverting numpy array into dataframe\n",
    "\n",
    "x = pd.DataFrame(x, columns = ['SL','SW','PL','PW']) "
   ]
  },
  {
   "cell_type": "code",
   "execution_count": 22,
   "id": "3e09c264",
   "metadata": {},
   "outputs": [
    {
     "data": {
      "text/html": [
       "<div>\n",
       "<style scoped>\n",
       "    .dataframe tbody tr th:only-of-type {\n",
       "        vertical-align: middle;\n",
       "    }\n",
       "\n",
       "    .dataframe tbody tr th {\n",
       "        vertical-align: top;\n",
       "    }\n",
       "\n",
       "    .dataframe thead th {\n",
       "        text-align: right;\n",
       "    }\n",
       "</style>\n",
       "<table border=\"1\" class=\"dataframe\">\n",
       "  <thead>\n",
       "    <tr style=\"text-align: right;\">\n",
       "      <th></th>\n",
       "      <th>SL</th>\n",
       "      <th>SW</th>\n",
       "      <th>PL</th>\n",
       "      <th>PW</th>\n",
       "    </tr>\n",
       "  </thead>\n",
       "  <tbody>\n",
       "    <tr>\n",
       "      <th>0</th>\n",
       "      <td>0.222222</td>\n",
       "      <td>0.786765</td>\n",
       "      <td>0.067797</td>\n",
       "      <td>0.041667</td>\n",
       "    </tr>\n",
       "    <tr>\n",
       "      <th>1</th>\n",
       "      <td>0.166667</td>\n",
       "      <td>0.492647</td>\n",
       "      <td>0.067797</td>\n",
       "      <td>0.041667</td>\n",
       "    </tr>\n",
       "    <tr>\n",
       "      <th>2</th>\n",
       "      <td>0.083333</td>\n",
       "      <td>0.551471</td>\n",
       "      <td>0.084746</td>\n",
       "      <td>0.041667</td>\n",
       "    </tr>\n",
       "    <tr>\n",
       "      <th>3</th>\n",
       "      <td>0.194444</td>\n",
       "      <td>0.845588</td>\n",
       "      <td>0.067797</td>\n",
       "      <td>0.041667</td>\n",
       "    </tr>\n",
       "    <tr>\n",
       "      <th>4</th>\n",
       "      <td>0.305556</td>\n",
       "      <td>1.000000</td>\n",
       "      <td>0.118644</td>\n",
       "      <td>0.125000</td>\n",
       "    </tr>\n",
       "    <tr>\n",
       "      <th>...</th>\n",
       "      <td>...</td>\n",
       "      <td>...</td>\n",
       "      <td>...</td>\n",
       "      <td>...</td>\n",
       "    </tr>\n",
       "    <tr>\n",
       "      <th>123</th>\n",
       "      <td>0.666667</td>\n",
       "      <td>0.669118</td>\n",
       "      <td>0.796610</td>\n",
       "      <td>1.000000</td>\n",
       "    </tr>\n",
       "    <tr>\n",
       "      <th>124</th>\n",
       "      <td>0.666667</td>\n",
       "      <td>0.492647</td>\n",
       "      <td>0.711864</td>\n",
       "      <td>0.916667</td>\n",
       "    </tr>\n",
       "    <tr>\n",
       "      <th>125</th>\n",
       "      <td>0.555556</td>\n",
       "      <td>0.198529</td>\n",
       "      <td>0.677966</td>\n",
       "      <td>0.750000</td>\n",
       "    </tr>\n",
       "    <tr>\n",
       "      <th>126</th>\n",
       "      <td>0.527778</td>\n",
       "      <td>0.727941</td>\n",
       "      <td>0.745763</td>\n",
       "      <td>0.916667</td>\n",
       "    </tr>\n",
       "    <tr>\n",
       "      <th>127</th>\n",
       "      <td>0.444444</td>\n",
       "      <td>0.492647</td>\n",
       "      <td>0.694915</td>\n",
       "      <td>0.708333</td>\n",
       "    </tr>\n",
       "  </tbody>\n",
       "</table>\n",
       "<p>128 rows × 4 columns</p>\n",
       "</div>"
      ],
      "text/plain": [
       "           SL        SW        PL        PW\n",
       "0    0.222222  0.786765  0.067797  0.041667\n",
       "1    0.166667  0.492647  0.067797  0.041667\n",
       "2    0.083333  0.551471  0.084746  0.041667\n",
       "3    0.194444  0.845588  0.067797  0.041667\n",
       "4    0.305556  1.000000  0.118644  0.125000\n",
       "..        ...       ...       ...       ...\n",
       "123  0.666667  0.669118  0.796610  1.000000\n",
       "124  0.666667  0.492647  0.711864  0.916667\n",
       "125  0.555556  0.198529  0.677966  0.750000\n",
       "126  0.527778  0.727941  0.745763  0.916667\n",
       "127  0.444444  0.492647  0.694915  0.708333\n",
       "\n",
       "[128 rows x 4 columns]"
      ]
     },
     "execution_count": 22,
     "metadata": {},
     "output_type": "execute_result"
    }
   ],
   "source": [
    "# Display Dataframe formed\n",
    "\n",
    "x"
   ]
  },
  {
   "cell_type": "code",
   "execution_count": 23,
   "id": "eb6eeecb",
   "metadata": {},
   "outputs": [],
   "source": [
    "# Import train_test_split\n",
    "\n",
    "from sklearn.model_selection import train_test_split\n",
    "x_train,x_test,y_train,y_test = train_test_split(x,y,test_size=0.2,random_state = 43)"
   ]
  },
  {
   "cell_type": "markdown",
   "id": "8d5b2285",
   "metadata": {},
   "source": [
    "# Logistic regression"
   ]
  },
  {
   "cell_type": "code",
   "execution_count": 24,
   "id": "7920a4a5",
   "metadata": {},
   "outputs": [],
   "source": [
    "# Import logistic regression\n",
    "\n",
    "from sklearn.linear_model import LogisticRegression\n",
    "\n",
    "# Create instance for logistic regression\n",
    "\n",
    "logit_model = LogisticRegression()\n",
    "\n",
    "# Fitting the model\n",
    "\n",
    "logit_model.fit(x_train,y_train)\n",
    "\n",
    "# prediction\n",
    "\n",
    "y_pred_lr = logit_model.predict(x_test)"
   ]
  },
  {
   "cell_type": "code",
   "execution_count": 25,
   "id": "bbee5854",
   "metadata": {},
   "outputs": [
    {
     "name": "stdout",
     "output_type": "stream",
     "text": [
      "Accuracy : 0.9615384615384616\n",
      "Precision : 0.9615384615384616\n",
      "Recall : 0.9615384615384616\n",
      "F1 Score : 0.9615384615384616\n"
     ]
    }
   ],
   "source": [
    "# Evaluation of model\n",
    "\n",
    "from sklearn.metrics import confusion_matrix, accuracy_score, precision_score, recall_score, f1_score\n",
    "\n",
    "print('Accuracy :', accuracy_score(y_test,y_pred_lr))\n",
    "print('Precision :', precision_score(y_test,y_pred_lr,average = 'micro'))\n",
    "print('Recall :', recall_score(y_test,y_pred_lr,average = 'micro'))\n",
    "print('F1 Score :', f1_score(y_test,y_pred_lr,average =  'micro'))"
   ]
  },
  {
   "cell_type": "code",
   "execution_count": 26,
   "id": "b4ba86cf",
   "metadata": {},
   "outputs": [
    {
     "data": {
      "text/plain": [
       "array([[8, 0, 0],\n",
       "       [0, 9, 0],\n",
       "       [0, 1, 8]], dtype=int64)"
      ]
     },
     "execution_count": 26,
     "metadata": {},
     "output_type": "execute_result"
    }
   ],
   "source": [
    "confusion_matrix(y_test,y_pred_lr)"
   ]
  },
  {
   "cell_type": "code",
   "execution_count": 27,
   "id": "ec2b31a0",
   "metadata": {},
   "outputs": [
    {
     "data": {
      "text/plain": [
       "array(['Iris-virginica', 'Iris-versicolor', 'Iris-versicolor',\n",
       "       'Iris-setosa', 'Iris-setosa', 'Iris-versicolor', 'Iris-versicolor',\n",
       "       'Iris-setosa', 'Iris-versicolor', 'Iris-setosa', 'Iris-setosa',\n",
       "       'Iris-virginica', 'Iris-versicolor', 'Iris-versicolor',\n",
       "       'Iris-virginica', 'Iris-virginica', 'Iris-versicolor',\n",
       "       'Iris-virginica', 'Iris-setosa', 'Iris-virginica',\n",
       "       'Iris-virginica', 'Iris-setosa', 'Iris-versicolor',\n",
       "       'Iris-virginica', 'Iris-setosa', 'Iris-versicolor'], dtype=object)"
      ]
     },
     "execution_count": 27,
     "metadata": {},
     "output_type": "execute_result"
    }
   ],
   "source": [
    "y_pred_lr"
   ]
  },
  {
   "cell_type": "code",
   "execution_count": 28,
   "id": "3cdbf3c8",
   "metadata": {},
   "outputs": [
    {
     "data": {
      "text/plain": [
       "114     Iris-virginica\n",
       "54     Iris-versicolor\n",
       "84     Iris-versicolor\n",
       "17         Iris-setosa\n",
       "3          Iris-setosa\n",
       "91     Iris-versicolor\n",
       "76     Iris-versicolor\n",
       "47         Iris-setosa\n",
       "92     Iris-versicolor\n",
       "48         Iris-setosa\n",
       "12         Iris-setosa\n",
       "131     Iris-virginica\n",
       "134     Iris-virginica\n",
       "67     Iris-versicolor\n",
       "130     Iris-virginica\n",
       "101     Iris-virginica\n",
       "99     Iris-versicolor\n",
       "146     Iris-virginica\n",
       "1          Iris-setosa\n",
       "137     Iris-virginica\n",
       "127     Iris-virginica\n",
       "25         Iris-setosa\n",
       "95     Iris-versicolor\n",
       "111     Iris-virginica\n",
       "23         Iris-setosa\n",
       "93     Iris-versicolor\n",
       "Name: Classification, dtype: object"
      ]
     },
     "execution_count": 28,
     "metadata": {},
     "output_type": "execute_result"
    }
   ],
   "source": [
    "y_test"
   ]
  },
  {
   "cell_type": "markdown",
   "id": "053f1c82",
   "metadata": {},
   "source": [
    "# k-Nearest Neighbor"
   ]
  },
  {
   "cell_type": "code",
   "execution_count": 29,
   "id": "1b300c66",
   "metadata": {},
   "outputs": [],
   "source": [
    "from sklearn.neighbors import KNeighborsClassifier\n",
    "metric = []\n",
    "neighbors = np.arange(3,15)\n",
    "\n",
    "for k in neighbors:\n",
    "    classifier = KNeighborsClassifier(n_neighbors = k, metric = 'minkowski', p=2)\n",
    "    classifier.fit(x_train,y_train)\n",
    "    y_pred_knn = classifier.predict(x_test)\n",
    "    acc = accuracy_score(y_test,y_pred_knn)\n",
    "    metric.append(acc)\n",
    "    "
   ]
  },
  {
   "cell_type": "code",
   "execution_count": 30,
   "id": "eff887d5",
   "metadata": {},
   "outputs": [
    {
     "data": {
      "image/png": "[encoded data removed]",
      "text/plain": [
       "<Figure size 640x480 with 1 Axes>"
      ]
     },
     "metadata": {},
     "output_type": "display_data"
    }
   ],
   "source": [
    "plt.plot(neighbors,metric,'o-')\n",
    "plt.xlabel('k value')\n",
    "plt.ylabel('Accuracy')\n",
    "plt.grid()"
   ]
  },
  {
   "cell_type": "code",
   "execution_count": 31,
   "id": "505db4e1",
   "metadata": {},
   "outputs": [],
   "source": [
    "classifier = KNeighborsClassifier(n_neighbors = 8, metric = 'minkowski', p=2)\n",
    "classifier.fit(x_train,y_train)\n",
    "y_pred_knn = classifier.predict(x_test)"
   ]
  },
  {
   "cell_type": "code",
   "execution_count": 32,
   "id": "ee55ca21",
   "metadata": {},
   "outputs": [
    {
     "name": "stdout",
     "output_type": "stream",
     "text": [
      "Accuracy : 1.0\n",
      "Precision : 1.0\n",
      "Recall : 1.0\n",
      "F1 Score : 1.0\n"
     ]
    }
   ],
   "source": [
    "# Evaluation of model\n",
    "\n",
    "from sklearn.metrics import confusion_matrix, accuracy_score, precision_score, recall_score, f1_score\n",
    "\n",
    "print('Accuracy :', accuracy_score(y_test,y_pred_knn))\n",
    "print('Precision :', precision_score(y_test,y_pred_knn,average = 'micro'))\n",
    "print('Recall :', recall_score(y_test,y_pred_knn,average = 'micro'))\n",
    "print('F1 Score :', f1_score(y_test,y_pred_knn,average =  'micro'))"
   ]
  },
  {
   "cell_type": "code",
   "execution_count": 33,
   "id": "de281b84",
   "metadata": {},
   "outputs": [
    {
     "data": {
      "text/plain": [
       "array([[8, 0, 0],\n",
       "       [0, 9, 0],\n",
       "       [0, 0, 9]], dtype=int64)"
      ]
     },
     "execution_count": 33,
     "metadata": {},
     "output_type": "execute_result"
    }
   ],
   "source": [
    "confusion_matrix(y_test,y_pred_knn)"
   ]
  },
  {
   "cell_type": "markdown",
   "id": "6d7ce30d",
   "metadata": {},
   "source": [
    "# Conclusion"
   ]
  },
  {
   "cell_type": "markdown",
   "id": "7c4dfd3d",
   "metadata": {},
   "source": [
    "From the above findings KNN model have good accuracy,precision,F1 score. So, knn models fits best for the given iris dataset"
   ]
  }
 ],
 "metadata": {
  "kernelspec": {
   "display_name": "Python 3 (ipykernel)",
   "language": "python",
   "name": "python3"
  },
  "language_info": {
   "codemirror_mode": {
    "name": "ipython",
    "version": 3
   },
   "file_extension": ".py",
   "mimetype": "text/x-python",
   "name": "python",
   "nbconvert_exporter": "python",
   "pygments_lexer": "ipython3",
   "version": "3.10.9"
  }
 },
 "nbformat": 4,
 "nbformat_minor": 5
}
